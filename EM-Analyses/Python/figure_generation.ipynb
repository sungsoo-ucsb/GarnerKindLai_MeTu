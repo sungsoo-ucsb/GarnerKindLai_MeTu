{
 "cells": [
  {
   "cell_type": "markdown",
   "metadata": {},
   "source": [
    "# Python Figure Generation"
   ]
  },
  {
   "cell_type": "markdown",
   "metadata": {},
   "source": [
    "### Importing modules and setting relevant variables"
   ]
  },
  {
   "cell_type": "code",
   "execution_count": 1,
   "metadata": {},
   "outputs": [
    {
     "name": "stderr",
     "output_type": "stream",
     "text": [
      "/Users/dustin/Desktop/Sung Soo Kim Research/MeTu-Project/GarnerKindLai_MeTu/EM-Analyses/Python/.venv/lib/python3.12/site-packages/tqdm/auto.py:21: TqdmWarning: IProgress not found. Please update jupyter and ipywidgets. See https://ipywidgets.readthedocs.io/en/stable/user_install.html\n",
      "  from .autonotebook import tqdm as notebook_tqdm\n"
     ]
    },
    {
     "data": {
      "text/html": [
       "<script type=\"esms-options\">{\"shimMode\": true}</script><style>*[data-root-id],\n",
       "*[data-root-id] > * {\n",
       "  box-sizing: border-box;\n",
       "  font-family: var(--jp-ui-font-family);\n",
       "  font-size: var(--jp-ui-font-size1);\n",
       "  color: var(--vscode-editor-foreground, var(--jp-ui-font-color1));\n",
       "}\n",
       "\n",
       "/* Override VSCode background color */\n",
       ".cell-output-ipywidget-background:has(\n",
       "    > .cell-output-ipywidget-background > .lm-Widget > *[data-root-id]\n",
       "  ),\n",
       ".cell-output-ipywidget-background:has(> .lm-Widget > *[data-root-id]) {\n",
       "  background-color: transparent !important;\n",
       "}\n",
       "</style>"
      ]
     },
     "metadata": {},
     "output_type": "display_data"
    },
    {
     "data": {
      "application/javascript": "(function(root) {\n  function now() {\n    return new Date();\n  }\n\n  const force = true;\n  const py_version = '3.6.2'.replace('rc', '-rc.').replace('.dev', '-dev.');\n  const reloading = false;\n  const Bokeh = root.Bokeh;\n\n  // Set a timeout for this load but only if we are not already initializing\n  if (typeof (root._bokeh_timeout) === \"undefined\" || (force || !root._bokeh_is_initializing)) {\n    root._bokeh_timeout = Date.now() + 5000;\n    root._bokeh_failed_load = false;\n  }\n\n  function run_callbacks() {\n    try {\n      root._bokeh_onload_callbacks.forEach(function(callback) {\n        if (callback != null)\n          callback();\n      });\n    } finally {\n      delete root._bokeh_onload_callbacks;\n    }\n    console.debug(\"Bokeh: all callbacks have finished\");\n  }\n\n  function load_libs(css_urls, js_urls, js_modules, js_exports, callback) {\n    if (css_urls == null) css_urls = [];\n    if (js_urls == null) js_urls = [];\n    if (js_modules == null) js_modules = [];\n    if (js_exports == null) js_exports = {};\n\n    root._bokeh_onload_callbacks.push(callback);\n\n    if (root._bokeh_is_loading > 0) {\n      // Don't load bokeh if it is still initializing\n      console.debug(\"Bokeh: BokehJS is being loaded, scheduling callback at\", now());\n      return null;\n    } else if (js_urls.length === 0 && js_modules.length === 0 && Object.keys(js_exports).length === 0) {\n      // There is nothing to load\n      run_callbacks();\n      return null;\n    }\n\n    function on_load() {\n      root._bokeh_is_loading--;\n      if (root._bokeh_is_loading === 0) {\n        console.debug(\"Bokeh: all BokehJS libraries/stylesheets loaded\");\n        run_callbacks()\n      }\n    }\n    window._bokeh_on_load = on_load\n\n    function on_error(e) {\n      const src_el = e.srcElement\n      console.error(\"failed to load \" + (src_el.href || src_el.src));\n    }\n\n    const skip = [];\n    if (window.requirejs) {\n      window.requirejs.config({'packages': {}, 'paths': {}, 'shim': {}});\n      root._bokeh_is_loading = css_urls.length + 0;\n    } else {\n      root._bokeh_is_loading = css_urls.length + js_urls.length + js_modules.length + Object.keys(js_exports).length;\n    }\n\n    const existing_stylesheets = []\n    const links = document.getElementsByTagName('link')\n    for (let i = 0; i < links.length; i++) {\n      const link = links[i]\n      if (link.href != null) {\n        existing_stylesheets.push(link.href)\n      }\n    }\n    for (let i = 0; i < css_urls.length; i++) {\n      const url = css_urls[i];\n      const escaped = encodeURI(url)\n      if (existing_stylesheets.indexOf(escaped) !== -1) {\n        on_load()\n        continue;\n      }\n      const element = document.createElement(\"link\");\n      element.onload = on_load;\n      element.onerror = on_error;\n      element.rel = \"stylesheet\";\n      element.type = \"text/css\";\n      element.href = url;\n      console.debug(\"Bokeh: injecting link tag for BokehJS stylesheet: \", url);\n      document.body.appendChild(element);\n    }    var existing_scripts = []\n    const scripts = document.getElementsByTagName('script')\n    for (let i = 0; i < scripts.length; i++) {\n      var script = scripts[i]\n      if (script.src != null) {\n        existing_scripts.push(script.src)\n      }\n    }\n    for (let i = 0; i < js_urls.length; i++) {\n      const url = js_urls[i];\n      const escaped = encodeURI(url)\n      if (skip.indexOf(escaped) !== -1 || existing_scripts.indexOf(escaped) !== -1) {\n        if (!window.requirejs) {\n          on_load();\n        }\n        continue;\n      }\n      const element = document.createElement('script');\n      element.onload = on_load;\n      element.onerror = on_error;\n      element.async = false;\n      element.src = url;\n      console.debug(\"Bokeh: injecting script tag for BokehJS library: \", url);\n      document.head.appendChild(element);\n    }\n    for (let i = 0; i < js_modules.length; i++) {\n      const url = js_modules[i];\n      const escaped = encodeURI(url)\n      if (skip.indexOf(escaped) !== -1 || existing_scripts.indexOf(escaped) !== -1) {\n        if (!window.requirejs) {\n          on_load();\n        }\n        continue;\n      }\n      var element = document.createElement('script');\n      element.onload = on_load;\n      element.onerror = on_error;\n      element.async = false;\n      element.src = url;\n      element.type = \"module\";\n      console.debug(\"Bokeh: injecting script tag for BokehJS library: \", url);\n      document.head.appendChild(element);\n    }\n    for (const name in js_exports) {\n      const url = js_exports[name];\n      const escaped = encodeURI(url)\n      if (skip.indexOf(escaped) >= 0 || root[name] != null) {\n        if (!window.requirejs) {\n          on_load();\n        }\n        continue;\n      }\n      var element = document.createElement('script');\n      element.onerror = on_error;\n      element.async = false;\n      element.type = \"module\";\n      console.debug(\"Bokeh: injecting script tag for BokehJS library: \", url);\n      element.textContent = `\n      import ${name} from \"${url}\"\n      window.${name} = ${name}\n      window._bokeh_on_load()\n      `\n      document.head.appendChild(element);\n    }\n    if (!js_urls.length && !js_modules.length) {\n      on_load()\n    }\n  };\n\n  function inject_raw_css(css) {\n    const element = document.createElement(\"style\");\n    element.appendChild(document.createTextNode(css));\n    document.body.appendChild(element);\n  }\n\n  const js_urls = [\"https://cdn.holoviz.org/panel/1.6.0/dist/bundled/reactiveesm/es-module-shims@^1.10.0/dist/es-module-shims.min.js\", \"https://cdn.bokeh.org/bokeh/release/bokeh-3.6.2.min.js\", \"https://cdn.bokeh.org/bokeh/release/bokeh-gl-3.6.2.min.js\", \"https://cdn.bokeh.org/bokeh/release/bokeh-widgets-3.6.2.min.js\", \"https://cdn.bokeh.org/bokeh/release/bokeh-tables-3.6.2.min.js\", \"https://cdn.holoviz.org/panel/1.6.0/dist/panel.min.js\"];\n  const js_modules = [];\n  const js_exports = {};\n  const css_urls = [];\n  const inline_js = [    function(Bokeh) {\n      Bokeh.set_log_level(\"info\");\n    },\nfunction(Bokeh) {} // ensure no trailing comma for IE\n  ];\n\n  function run_inline_js() {\n    if ((root.Bokeh !== undefined) || (force === true)) {\n      for (let i = 0; i < inline_js.length; i++) {\n        try {\n          inline_js[i].call(root, root.Bokeh);\n        } catch(e) {\n          if (!reloading) {\n            throw e;\n          }\n        }\n      }\n      // Cache old bokeh versions\n      if (Bokeh != undefined && !reloading) {\n        var NewBokeh = root.Bokeh;\n        if (Bokeh.versions === undefined) {\n          Bokeh.versions = new Map();\n        }\n        if (NewBokeh.version !== Bokeh.version) {\n          Bokeh.versions.set(NewBokeh.version, NewBokeh)\n        }\n        root.Bokeh = Bokeh;\n      }\n    } else if (Date.now() < root._bokeh_timeout) {\n      setTimeout(run_inline_js, 100);\n    } else if (!root._bokeh_failed_load) {\n      console.log(\"Bokeh: BokehJS failed to load within specified timeout.\");\n      root._bokeh_failed_load = true;\n    }\n    root._bokeh_is_initializing = false\n  }\n\n  function load_or_wait() {\n    // Implement a backoff loop that tries to ensure we do not load multiple\n    // versions of Bokeh and its dependencies at the same time.\n    // In recent versions we use the root._bokeh_is_initializing flag\n    // to determine whether there is an ongoing attempt to initialize\n    // bokeh, however for backward compatibility we also try to ensure\n    // that we do not start loading a newer (Panel>=1.0 and Bokeh>3) version\n    // before older versions are fully initialized.\n    if (root._bokeh_is_initializing && Date.now() > root._bokeh_timeout) {\n      // If the timeout and bokeh was not successfully loaded we reset\n      // everything and try loading again\n      root._bokeh_timeout = Date.now() + 5000;\n      root._bokeh_is_initializing = false;\n      root._bokeh_onload_callbacks = undefined;\n      root._bokeh_is_loading = 0\n      console.log(\"Bokeh: BokehJS was loaded multiple times but one version failed to initialize.\");\n      load_or_wait();\n    } else if (root._bokeh_is_initializing || (typeof root._bokeh_is_initializing === \"undefined\" && root._bokeh_onload_callbacks !== undefined)) {\n      setTimeout(load_or_wait, 100);\n    } else {\n      root._bokeh_is_initializing = true\n      root._bokeh_onload_callbacks = []\n      const bokeh_loaded = root.Bokeh != null && (root.Bokeh.version === py_version || (root.Bokeh.versions !== undefined && root.Bokeh.versions.has(py_version)));\n      if (!reloading && !bokeh_loaded) {\n        if (root.Bokeh) {\n          root.Bokeh = undefined;\n        }\n        console.debug(\"Bokeh: BokehJS not loaded, scheduling load and callback at\", now());\n      }\n      load_libs(css_urls, js_urls, js_modules, js_exports, function() {\n        console.debug(\"Bokeh: BokehJS plotting callback run at\", now());\n        run_inline_js();\n      });\n    }\n  }\n  // Give older versions of the autoload script a head-start to ensure\n  // they initialize before we start loading newer version.\n  setTimeout(load_or_wait, 100)\n}(window));",
      "application/vnd.holoviews_load.v0+json": ""
     },
     "metadata": {},
     "output_type": "display_data"
    },
    {
     "data": {
      "application/javascript": "\nif ((window.PyViz === undefined) || (window.PyViz instanceof HTMLElement)) {\n  window.PyViz = {comms: {}, comm_status:{}, kernels:{}, receivers: {}, plot_index: []}\n}\n\n\n    function JupyterCommManager() {\n    }\n\n    JupyterCommManager.prototype.register_target = function(plot_id, comm_id, msg_handler) {\n      if (window.comm_manager || ((window.Jupyter !== undefined) && (Jupyter.notebook.kernel != null))) {\n        var comm_manager = window.comm_manager || Jupyter.notebook.kernel.comm_manager;\n        comm_manager.register_target(comm_id, function(comm) {\n          comm.on_msg(msg_handler);\n        });\n      } else if ((plot_id in window.PyViz.kernels) && (window.PyViz.kernels[plot_id])) {\n        window.PyViz.kernels[plot_id].registerCommTarget(comm_id, function(comm) {\n          comm.onMsg = msg_handler;\n        });\n      } else if (typeof google != 'undefined' && google.colab.kernel != null) {\n        google.colab.kernel.comms.registerTarget(comm_id, (comm) => {\n          var messages = comm.messages[Symbol.asyncIterator]();\n          function processIteratorResult(result) {\n            var message = result.value;\n            console.log(message)\n            var content = {data: message.data, comm_id};\n            var buffers = []\n            for (var buffer of message.buffers || []) {\n              buffers.push(new DataView(buffer))\n            }\n            var metadata = message.metadata || {};\n            var msg = {content, buffers, metadata}\n            msg_handler(msg);\n            return messages.next().then(processIteratorResult);\n          }\n          return messages.next().then(processIteratorResult);\n        })\n      }\n    }\n\n    JupyterCommManager.prototype.get_client_comm = function(plot_id, comm_id, msg_handler) {\n      if (comm_id in window.PyViz.comms) {\n        return window.PyViz.comms[comm_id];\n      } else if (window.comm_manager || ((window.Jupyter !== undefined) && (Jupyter.notebook.kernel != null))) {\n        var comm_manager = window.comm_manager || Jupyter.notebook.kernel.comm_manager;\n        var comm = comm_manager.new_comm(comm_id, {}, {}, {}, comm_id);\n        if (msg_handler) {\n          comm.on_msg(msg_handler);\n        }\n      } else if ((plot_id in window.PyViz.kernels) && (window.PyViz.kernels[plot_id])) {\n        var comm = window.PyViz.kernels[plot_id].connectToComm(comm_id);\n        comm.open();\n        if (msg_handler) {\n          comm.onMsg = msg_handler;\n        }\n      } else if (typeof google != 'undefined' && google.colab.kernel != null) {\n        var comm_promise = google.colab.kernel.comms.open(comm_id)\n        comm_promise.then((comm) => {\n          window.PyViz.comms[comm_id] = comm;\n          if (msg_handler) {\n            var messages = comm.messages[Symbol.asyncIterator]();\n            function processIteratorResult(result) {\n              var message = result.value;\n              var content = {data: message.data};\n              var metadata = message.metadata || {comm_id};\n              var msg = {content, metadata}\n              msg_handler(msg);\n              return messages.next().then(processIteratorResult);\n            }\n            return messages.next().then(processIteratorResult);\n          }\n        })\n        var sendClosure = (data, metadata, buffers, disposeOnDone) => {\n          return comm_promise.then((comm) => {\n            comm.send(data, metadata, buffers, disposeOnDone);\n          });\n        };\n        var comm = {\n          send: sendClosure\n        };\n      }\n      window.PyViz.comms[comm_id] = comm;\n      return comm;\n    }\n    window.PyViz.comm_manager = new JupyterCommManager();\n    \n\n\nvar JS_MIME_TYPE = 'application/javascript';\nvar HTML_MIME_TYPE = 'text/html';\nvar EXEC_MIME_TYPE = 'application/vnd.holoviews_exec.v0+json';\nvar CLASS_NAME = 'output';\n\n/**\n * Render data to the DOM node\n */\nfunction render(props, node) {\n  var div = document.createElement(\"div\");\n  var script = document.createElement(\"script\");\n  node.appendChild(div);\n  node.appendChild(script);\n}\n\n/**\n * Handle when a new output is added\n */\nfunction handle_add_output(event, handle) {\n  var output_area = handle.output_area;\n  var output = handle.output;\n  if ((output.data == undefined) || (!output.data.hasOwnProperty(EXEC_MIME_TYPE))) {\n    return\n  }\n  var id = output.metadata[EXEC_MIME_TYPE][\"id\"];\n  var toinsert = output_area.element.find(\".\" + CLASS_NAME.split(' ')[0]);\n  if (id !== undefined) {\n    var nchildren = toinsert.length;\n    var html_node = toinsert[nchildren-1].children[0];\n    html_node.innerHTML = output.data[HTML_MIME_TYPE];\n    var scripts = [];\n    var nodelist = html_node.querySelectorAll(\"script\");\n    for (var i in nodelist) {\n      if (nodelist.hasOwnProperty(i)) {\n        scripts.push(nodelist[i])\n      }\n    }\n\n    scripts.forEach( function (oldScript) {\n      var newScript = document.createElement(\"script\");\n      var attrs = [];\n      var nodemap = oldScript.attributes;\n      for (var j in nodemap) {\n        if (nodemap.hasOwnProperty(j)) {\n          attrs.push(nodemap[j])\n        }\n      }\n      attrs.forEach(function(attr) { newScript.setAttribute(attr.name, attr.value) });\n      newScript.appendChild(document.createTextNode(oldScript.innerHTML));\n      oldScript.parentNode.replaceChild(newScript, oldScript);\n    });\n    if (JS_MIME_TYPE in output.data) {\n      toinsert[nchildren-1].children[1].textContent = output.data[JS_MIME_TYPE];\n    }\n    output_area._hv_plot_id = id;\n    if ((window.Bokeh !== undefined) && (id in Bokeh.index)) {\n      window.PyViz.plot_index[id] = Bokeh.index[id];\n    } else {\n      window.PyViz.plot_index[id] = null;\n    }\n  } else if (output.metadata[EXEC_MIME_TYPE][\"server_id\"] !== undefined) {\n    var bk_div = document.createElement(\"div\");\n    bk_div.innerHTML = output.data[HTML_MIME_TYPE];\n    var script_attrs = bk_div.children[0].attributes;\n    for (var i = 0; i < script_attrs.length; i++) {\n      toinsert[toinsert.length - 1].childNodes[1].setAttribute(script_attrs[i].name, script_attrs[i].value);\n    }\n    // store reference to server id on output_area\n    output_area._bokeh_server_id = output.metadata[EXEC_MIME_TYPE][\"server_id\"];\n  }\n}\n\n/**\n * Handle when an output is cleared or removed\n */\nfunction handle_clear_output(event, handle) {\n  var id = handle.cell.output_area._hv_plot_id;\n  var server_id = handle.cell.output_area._bokeh_server_id;\n  if (((id === undefined) || !(id in PyViz.plot_index)) && (server_id !== undefined)) { return; }\n  var comm = window.PyViz.comm_manager.get_client_comm(\"hv-extension-comm\", \"hv-extension-comm\", function () {});\n  if (server_id !== null) {\n    comm.send({event_type: 'server_delete', 'id': server_id});\n    return;\n  } else if (comm !== null) {\n    comm.send({event_type: 'delete', 'id': id});\n  }\n  delete PyViz.plot_index[id];\n  if ((window.Bokeh !== undefined) & (id in window.Bokeh.index)) {\n    var doc = window.Bokeh.index[id].model.document\n    doc.clear();\n    const i = window.Bokeh.documents.indexOf(doc);\n    if (i > -1) {\n      window.Bokeh.documents.splice(i, 1);\n    }\n  }\n}\n\n/**\n * Handle kernel restart event\n */\nfunction handle_kernel_cleanup(event, handle) {\n  delete PyViz.comms[\"hv-extension-comm\"];\n  window.PyViz.plot_index = {}\n}\n\n/**\n * Handle update_display_data messages\n */\nfunction handle_update_output(event, handle) {\n  handle_clear_output(event, {cell: {output_area: handle.output_area}})\n  handle_add_output(event, handle)\n}\n\nfunction register_renderer(events, OutputArea) {\n  function append_mime(data, metadata, element) {\n    // create a DOM node to render to\n    var toinsert = this.create_output_subarea(\n    metadata,\n    CLASS_NAME,\n    EXEC_MIME_TYPE\n    );\n    this.keyboard_manager.register_events(toinsert);\n    // Render to node\n    var props = {data: data, metadata: metadata[EXEC_MIME_TYPE]};\n    render(props, toinsert[0]);\n    element.append(toinsert);\n    return toinsert\n  }\n\n  events.on('output_added.OutputArea', handle_add_output);\n  events.on('output_updated.OutputArea', handle_update_output);\n  events.on('clear_output.CodeCell', handle_clear_output);\n  events.on('delete.Cell', handle_clear_output);\n  events.on('kernel_ready.Kernel', handle_kernel_cleanup);\n\n  OutputArea.prototype.register_mime_type(EXEC_MIME_TYPE, append_mime, {\n    safe: true,\n    index: 0\n  });\n}\n\nif (window.Jupyter !== undefined) {\n  try {\n    var events = require('base/js/events');\n    var OutputArea = require('notebook/js/outputarea').OutputArea;\n    if (OutputArea.prototype.mime_types().indexOf(EXEC_MIME_TYPE) == -1) {\n      register_renderer(events, OutputArea);\n    }\n  } catch(err) {\n  }\n}\n",
      "application/vnd.holoviews_load.v0+json": ""
     },
     "metadata": {},
     "output_type": "display_data"
    },
    {
     "data": {
      "application/vnd.holoviews_exec.v0+json": "",
      "text/html": [
       "<div id='6830f9ad-7a80-465e-aa58-dce3cf2740e5'>\n",
       "  <div id=\"cb36c2c2-172a-4f6e-a863-10d2af4797bb\" data-root-id=\"6830f9ad-7a80-465e-aa58-dce3cf2740e5\" style=\"display: contents;\"></div>\n",
       "</div>\n",
       "<script type=\"application/javascript\">(function(root) {\n",
       "  var docs_json = {\"e408e5ed-740f-49fa-aba8-5daf5d655735\":{\"version\":\"3.6.2\",\"title\":\"Bokeh Application\",\"roots\":[{\"type\":\"object\",\"name\":\"panel.models.browser.BrowserInfo\",\"id\":\"6830f9ad-7a80-465e-aa58-dce3cf2740e5\"},{\"type\":\"object\",\"name\":\"panel.models.comm_manager.CommManager\",\"id\":\"df302e4a-277f-488f-ac3b-6945a3d119fa\",\"attributes\":{\"plot_id\":\"6830f9ad-7a80-465e-aa58-dce3cf2740e5\",\"comm_id\":\"a43a18a3fadd482295e19e896143bb37\",\"client_comm_id\":\"d05917ddf46549ff9de9c9676f835f58\"}}],\"defs\":[{\"type\":\"model\",\"name\":\"ReactiveHTML1\"},{\"type\":\"model\",\"name\":\"FlexBox1\",\"properties\":[{\"name\":\"align_content\",\"kind\":\"Any\",\"default\":\"flex-start\"},{\"name\":\"align_items\",\"kind\":\"Any\",\"default\":\"flex-start\"},{\"name\":\"flex_direction\",\"kind\":\"Any\",\"default\":\"row\"},{\"name\":\"flex_wrap\",\"kind\":\"Any\",\"default\":\"wrap\"},{\"name\":\"gap\",\"kind\":\"Any\",\"default\":\"\"},{\"name\":\"justify_content\",\"kind\":\"Any\",\"default\":\"flex-start\"}]},{\"type\":\"model\",\"name\":\"FloatPanel1\",\"properties\":[{\"name\":\"config\",\"kind\":\"Any\",\"default\":{\"type\":\"map\"}},{\"name\":\"contained\",\"kind\":\"Any\",\"default\":true},{\"name\":\"position\",\"kind\":\"Any\",\"default\":\"right-top\"},{\"name\":\"offsetx\",\"kind\":\"Any\",\"default\":null},{\"name\":\"offsety\",\"kind\":\"Any\",\"default\":null},{\"name\":\"theme\",\"kind\":\"Any\",\"default\":\"primary\"},{\"name\":\"status\",\"kind\":\"Any\",\"default\":\"normalized\"}]},{\"type\":\"model\",\"name\":\"GridStack1\",\"properties\":[{\"name\":\"mode\",\"kind\":\"Any\",\"default\":\"warn\"},{\"name\":\"ncols\",\"kind\":\"Any\",\"default\":null},{\"name\":\"nrows\",\"kind\":\"Any\",\"default\":null},{\"name\":\"allow_resize\",\"kind\":\"Any\",\"default\":true},{\"name\":\"allow_drag\",\"kind\":\"Any\",\"default\":true},{\"name\":\"state\",\"kind\":\"Any\",\"default\":[]}]},{\"type\":\"model\",\"name\":\"drag1\",\"properties\":[{\"name\":\"slider_width\",\"kind\":\"Any\",\"default\":5},{\"name\":\"slider_color\",\"kind\":\"Any\",\"default\":\"black\"},{\"name\":\"value\",\"kind\":\"Any\",\"default\":50}]},{\"type\":\"model\",\"name\":\"click1\",\"properties\":[{\"name\":\"terminal_output\",\"kind\":\"Any\",\"default\":\"\"},{\"name\":\"debug_name\",\"kind\":\"Any\",\"default\":\"\"},{\"name\":\"clears\",\"kind\":\"Any\",\"default\":0}]},{\"type\":\"model\",\"name\":\"FastWrapper1\",\"properties\":[{\"name\":\"object\",\"kind\":\"Any\",\"default\":null},{\"name\":\"style\",\"kind\":\"Any\",\"default\":null}]},{\"type\":\"model\",\"name\":\"NotificationAreaBase1\",\"properties\":[{\"name\":\"js_events\",\"kind\":\"Any\",\"default\":{\"type\":\"map\"}},{\"name\":\"position\",\"kind\":\"Any\",\"default\":\"bottom-right\"},{\"name\":\"_clear\",\"kind\":\"Any\",\"default\":0}]},{\"type\":\"model\",\"name\":\"NotificationArea1\",\"properties\":[{\"name\":\"js_events\",\"kind\":\"Any\",\"default\":{\"type\":\"map\"}},{\"name\":\"notifications\",\"kind\":\"Any\",\"default\":[]},{\"name\":\"position\",\"kind\":\"Any\",\"default\":\"bottom-right\"},{\"name\":\"_clear\",\"kind\":\"Any\",\"default\":0},{\"name\":\"types\",\"kind\":\"Any\",\"default\":[{\"type\":\"map\",\"entries\":[[\"type\",\"warning\"],[\"background\",\"#ffc107\"],[\"icon\",{\"type\":\"map\",\"entries\":[[\"className\",\"fas fa-exclamation-triangle\"],[\"tagName\",\"i\"],[\"color\",\"white\"]]}]]},{\"type\":\"map\",\"entries\":[[\"type\",\"info\"],[\"background\",\"#007bff\"],[\"icon\",{\"type\":\"map\",\"entries\":[[\"className\",\"fas fa-info-circle\"],[\"tagName\",\"i\"],[\"color\",\"white\"]]}]]}]}]},{\"type\":\"model\",\"name\":\"Notification\",\"properties\":[{\"name\":\"background\",\"kind\":\"Any\",\"default\":null},{\"name\":\"duration\",\"kind\":\"Any\",\"default\":3000},{\"name\":\"icon\",\"kind\":\"Any\",\"default\":null},{\"name\":\"message\",\"kind\":\"Any\",\"default\":\"\"},{\"name\":\"notification_type\",\"kind\":\"Any\",\"default\":null},{\"name\":\"_rendered\",\"kind\":\"Any\",\"default\":false},{\"name\":\"_destroyed\",\"kind\":\"Any\",\"default\":false}]},{\"type\":\"model\",\"name\":\"TemplateActions1\",\"properties\":[{\"name\":\"open_modal\",\"kind\":\"Any\",\"default\":0},{\"name\":\"close_modal\",\"kind\":\"Any\",\"default\":0}]},{\"type\":\"model\",\"name\":\"BootstrapTemplateActions1\",\"properties\":[{\"name\":\"open_modal\",\"kind\":\"Any\",\"default\":0},{\"name\":\"close_modal\",\"kind\":\"Any\",\"default\":0}]},{\"type\":\"model\",\"name\":\"TemplateEditor1\",\"properties\":[{\"name\":\"layout\",\"kind\":\"Any\",\"default\":[]}]},{\"type\":\"model\",\"name\":\"MaterialTemplateActions1\",\"properties\":[{\"name\":\"open_modal\",\"kind\":\"Any\",\"default\":0},{\"name\":\"close_modal\",\"kind\":\"Any\",\"default\":0}]},{\"type\":\"model\",\"name\":\"ReactiveESM1\",\"properties\":[{\"name\":\"esm_constants\",\"kind\":\"Any\",\"default\":{\"type\":\"map\"}}]},{\"type\":\"model\",\"name\":\"JSComponent1\",\"properties\":[{\"name\":\"esm_constants\",\"kind\":\"Any\",\"default\":{\"type\":\"map\"}}]},{\"type\":\"model\",\"name\":\"ReactComponent1\",\"properties\":[{\"name\":\"esm_constants\",\"kind\":\"Any\",\"default\":{\"type\":\"map\"}}]},{\"type\":\"model\",\"name\":\"AnyWidgetComponent1\",\"properties\":[{\"name\":\"esm_constants\",\"kind\":\"Any\",\"default\":{\"type\":\"map\"}}]},{\"type\":\"model\",\"name\":\"request_value1\",\"properties\":[{\"name\":\"fill\",\"kind\":\"Any\",\"default\":\"none\"},{\"name\":\"_synced\",\"kind\":\"Any\",\"default\":null},{\"name\":\"_request_sync\",\"kind\":\"Any\",\"default\":0}]}]}};\n",
       "  var render_items = [{\"docid\":\"e408e5ed-740f-49fa-aba8-5daf5d655735\",\"roots\":{\"6830f9ad-7a80-465e-aa58-dce3cf2740e5\":\"cb36c2c2-172a-4f6e-a863-10d2af4797bb\"},\"root_ids\":[\"6830f9ad-7a80-465e-aa58-dce3cf2740e5\"]}];\n",
       "  var docs = Object.values(docs_json)\n",
       "  if (!docs) {\n",
       "    return\n",
       "  }\n",
       "  const py_version = docs[0].version.replace('rc', '-rc.').replace('.dev', '-dev.')\n",
       "  async function embed_document(root) {\n",
       "    var Bokeh = get_bokeh(root)\n",
       "    await Bokeh.embed.embed_items_notebook(docs_json, render_items);\n",
       "    for (const render_item of render_items) {\n",
       "      for (const root_id of render_item.root_ids) {\n",
       "\tconst id_el = document.getElementById(root_id)\n",
       "\tif (id_el.children.length && id_el.children[0].hasAttribute('data-root-id')) {\n",
       "\t  const root_el = id_el.children[0]\n",
       "\t  root_el.id = root_el.id + '-rendered'\n",
       "\t  for (const child of root_el.children) {\n",
       "            // Ensure JupyterLab does not capture keyboard shortcuts\n",
       "            // see: https://jupyterlab.readthedocs.io/en/4.1.x/extension/notebook.html#keyboard-interaction-model\n",
       "\t    child.setAttribute('data-lm-suppress-shortcuts', 'true')\n",
       "\t  }\n",
       "\t}\n",
       "      }\n",
       "    }\n",
       "  }\n",
       "  function get_bokeh(root) {\n",
       "    if (root.Bokeh === undefined) {\n",
       "      return null\n",
       "    } else if (root.Bokeh.version !== py_version) {\n",
       "      if (root.Bokeh.versions === undefined || !root.Bokeh.versions.has(py_version)) {\n",
       "\treturn null\n",
       "      }\n",
       "      return root.Bokeh.versions.get(py_version);\n",
       "    } else if (root.Bokeh.version === py_version) {\n",
       "      return root.Bokeh\n",
       "    }\n",
       "    return null\n",
       "  }\n",
       "  function is_loaded(root) {\n",
       "    var Bokeh = get_bokeh(root)\n",
       "    return (Bokeh != null && Bokeh.Panel !== undefined)\n",
       "  }\n",
       "  if (is_loaded(root)) {\n",
       "    embed_document(root);\n",
       "  } else {\n",
       "    var attempts = 0;\n",
       "    var timer = setInterval(function(root) {\n",
       "      if (is_loaded(root)) {\n",
       "        clearInterval(timer);\n",
       "        embed_document(root);\n",
       "      } else if (document.readyState == \"complete\") {\n",
       "        attempts++;\n",
       "        if (attempts > 200) {\n",
       "          clearInterval(timer);\n",
       "\t  var Bokeh = get_bokeh(root)\n",
       "\t  if (Bokeh == null || Bokeh.Panel == null) {\n",
       "            console.warn(\"Panel: ERROR: Unable to run Panel code because Bokeh or Panel library is missing\");\n",
       "\t  } else {\n",
       "\t    console.warn(\"Panel: WARNING: Attempting to render but not all required libraries could be resolved.\")\n",
       "\t    embed_document(root)\n",
       "\t  }\n",
       "        }\n",
       "      }\n",
       "    }, 25, root)\n",
       "  }\n",
       "})(window);</script>"
      ]
     },
     "metadata": {
      "application/vnd.holoviews_exec.v0+json": {
       "id": "6830f9ad-7a80-465e-aa58-dce3cf2740e5"
      }
     },
     "output_type": "display_data"
    },
    {
     "name": "stderr",
     "output_type": "stream",
     "text": [
      "/Users/dustin/Desktop/Sung Soo Kim Research/MeTu-Project/GarnerKindLai_MeTu/EM-Analyses/Python/.venv/lib/python3.12/site-packages/neuprint/utils.py:89: UserWarning: \n",
      "Progress bar will not work well in the notebook without ipywidgets.\n",
      "Run the following commands (for notebook and jupyterlab users):\n",
      "\n",
      "    conda install -c conda-forge ipywidgets\n",
      "    jupyter nbextension enable --py widgetsnbextension\n",
      "    jupyter labextension install @jupyter-widgets/jupyterlab-manager\n",
      "\n",
      "...and then reload your jupyter session, and restart your kernel.\n",
      "\n",
      "  warnings.warn(msg)\n"
     ]
    },
    {
     "name": "stdout",
     "output_type": "stream",
     "text": [
      "Default dataset set to \"production\".\n"
     ]
    },
    {
     "data": {
      "text/html": [
       "    <style>\n",
       "        .bk-notebook-logo {\n",
       "            display: block;\n",
       "            width: 20px;\n",
       "            height: 20px;\n",
       "            background-image: url(data:image/png;base64,iVBORw0KGgoAAAANSUhEUgAAABQAAAAUCAYAAACNiR0NAAAABHNCSVQICAgIfAhkiAAAAAlwSFlzAAALEgAACxIB0t1+/AAAABx0RVh0U29mdHdhcmUAQWRvYmUgRmlyZXdvcmtzIENTNui8sowAAAOkSURBVDiNjZRtaJVlGMd/1/08zzln5zjP1LWcU9N0NkN8m2CYjpgQYQXqSs0I84OLIC0hkEKoPtiH3gmKoiJDU7QpLgoLjLIQCpEsNJ1vqUOdO7ppbuec5+V+rj4ctwzd8IIbbi6u+8f1539dt3A78eXC7QizUF7gyV1fD1Yqg4JWz84yffhm0qkFqBogB9rM8tZdtwVsPUhWhGcFJngGeWrPzHm5oaMmkfEg1usvLFyc8jLRqDOMru7AyC8saQr7GG7f5fvDeH7Ej8CM66nIF+8yngt6HWaKh7k49Soy9nXurCi1o3qUbS3zWfrYeQDTB/Qj6kX6Ybhw4B+bOYoLKCC9H3Nu/leUTZ1JdRWkkn2ldcCamzrcf47KKXdAJllSlxAOkRgyHsGC/zRday5Qld9DyoM4/q/rUoy/CXh3jzOu3bHUVZeU+DEn8FInkPBFlu3+nW3Nw0mk6vCDiWg8CeJaxEwuHS3+z5RgY+YBR6V1Z1nxSOfoaPa4LASWxxdNp+VWTk7+4vzaou8v8PN+xo+KY2xsw6une2frhw05CTYOmQvsEhjhWjn0bmXPjpE1+kplmmkP3suftwTubK9Vq22qKmrBhpY4jvd5afdRA3wGjFAgcnTK2s4hY0/GPNIb0nErGMCRxWOOX64Z8RAC4oCXdklmEvcL8o0BfkNK4lUg9HTl+oPlQxdNo3Mg4Nv175e/1LDGzZen30MEjRUtmXSfiTVu1kK8W4txyV6BMKlbgk3lMwYCiusNy9fVfvvwMxv8Ynl6vxoByANLTWplvuj/nF9m2+PDtt1eiHPBr1oIfhCChQMBw6Aw0UulqTKZdfVvfG7VcfIqLG9bcldL/+pdWTLxLUy8Qq38heUIjh4XlzZxzQm19lLFlr8vdQ97rjZVOLf8nclzckbcD4wxXMidpX30sFd37Fv/GtwwhzhxGVAprjbg0gCAEeIgwCZyTV2Z1REEW8O4py0wsjeloKoMr6iCY6dP92H6Vw/oTyICIthibxjm/DfN9lVz8IqtqKYLUXfoKVMVQVVJOElGjrnnUt9T9wbgp8AyYKaGlqingHZU/uG2NTZSVqwHQTWkx9hxjkpWDaCg6Ckj5qebgBVbT3V3NNXMSiWSDdGV3hrtzla7J+duwPOToIg42ChPQOQjspnSlp1V+Gjdged7+8UN5CRAV7a5EdFNwCjEaBR27b3W890TE7g24NAP/mMDXRWrGoFPQI9ls/MWO2dWFAar/xcOIImbbpA3zgAAAABJRU5ErkJggg==);\n",
       "        }\n",
       "    </style>\n",
       "    <div>\n",
       "        <a href=\"https://bokeh.org\" target=\"_blank\" class=\"bk-notebook-logo\"></a>\n",
       "        <span id=\"e06f3040-d78e-4a74-86e0-a3910368b8a1\">Loading BokehJS ...</span>\n",
       "    </div>\n"
      ]
     },
     "metadata": {},
     "output_type": "display_data"
    },
    {
     "data": {
      "application/javascript": "'use strict';\n(function(root) {\n  function now() {\n    return new Date();\n  }\n\n  const force = true;\n\n  if (typeof root._bokeh_onload_callbacks === \"undefined\" || force === true) {\n    root._bokeh_onload_callbacks = [];\n    root._bokeh_is_loading = undefined;\n  }\n\nconst JS_MIME_TYPE = 'application/javascript';\n  const HTML_MIME_TYPE = 'text/html';\n  const EXEC_MIME_TYPE = 'application/vnd.bokehjs_exec.v0+json';\n  const CLASS_NAME = 'output_bokeh rendered_html';\n\n  /**\n   * Render data to the DOM node\n   */\n  function render(props, node) {\n    const script = document.createElement(\"script\");\n    node.appendChild(script);\n  }\n\n  /**\n   * Handle when an output is cleared or removed\n   */\n  function handleClearOutput(event, handle) {\n    function drop(id) {\n      const view = Bokeh.index.get_by_id(id)\n      if (view != null) {\n        view.model.document.clear()\n        Bokeh.index.delete(view)\n      }\n    }\n\n    const cell = handle.cell;\n\n    const id = cell.output_area._bokeh_element_id;\n    const server_id = cell.output_area._bokeh_server_id;\n\n    // Clean up Bokeh references\n    if (id != null) {\n      drop(id)\n    }\n\n    if (server_id !== undefined) {\n      // Clean up Bokeh references\n      const cmd_clean = \"from bokeh.io.state import curstate; print(curstate().uuid_to_server['\" + server_id + \"'].get_sessions()[0].document.roots[0]._id)\";\n      cell.notebook.kernel.execute(cmd_clean, {\n        iopub: {\n          output: function(msg) {\n            const id = msg.content.text.trim()\n            drop(id)\n          }\n        }\n      });\n      // Destroy server and session\n      const cmd_destroy = \"import bokeh.io.notebook as ion; ion.destroy_server('\" + server_id + \"')\";\n      cell.notebook.kernel.execute(cmd_destroy);\n    }\n  }\n\n  /**\n   * Handle when a new output is added\n   */\n  function handleAddOutput(event, handle) {\n    const output_area = handle.output_area;\n    const output = handle.output;\n\n    // limit handleAddOutput to display_data with EXEC_MIME_TYPE content only\n    if ((output.output_type != \"display_data\") || (!Object.prototype.hasOwnProperty.call(output.data, EXEC_MIME_TYPE))) {\n      return\n    }\n\n    const toinsert = output_area.element.find(\".\" + CLASS_NAME.split(' ')[0]);\n\n    if (output.metadata[EXEC_MIME_TYPE][\"id\"] !== undefined) {\n      toinsert[toinsert.length - 1].firstChild.textContent = output.data[JS_MIME_TYPE];\n      // store reference to embed id on output_area\n      output_area._bokeh_element_id = output.metadata[EXEC_MIME_TYPE][\"id\"];\n    }\n    if (output.metadata[EXEC_MIME_TYPE][\"server_id\"] !== undefined) {\n      const bk_div = document.createElement(\"div\");\n      bk_div.innerHTML = output.data[HTML_MIME_TYPE];\n      const script_attrs = bk_div.children[0].attributes;\n      for (let i = 0; i < script_attrs.length; i++) {\n        toinsert[toinsert.length - 1].firstChild.setAttribute(script_attrs[i].name, script_attrs[i].value);\n        toinsert[toinsert.length - 1].firstChild.textContent = bk_div.children[0].textContent\n      }\n      // store reference to server id on output_area\n      output_area._bokeh_server_id = output.metadata[EXEC_MIME_TYPE][\"server_id\"];\n    }\n  }\n\n  function register_renderer(events, OutputArea) {\n\n    function append_mime(data, metadata, element) {\n      // create a DOM node to render to\n      const toinsert = this.create_output_subarea(\n        metadata,\n        CLASS_NAME,\n        EXEC_MIME_TYPE\n      );\n      this.keyboard_manager.register_events(toinsert);\n      // Render to node\n      const props = {data: data, metadata: metadata[EXEC_MIME_TYPE]};\n      render(props, toinsert[toinsert.length - 1]);\n      element.append(toinsert);\n      return toinsert\n    }\n\n    /* Handle when an output is cleared or removed */\n    events.on('clear_output.CodeCell', handleClearOutput);\n    events.on('delete.Cell', handleClearOutput);\n\n    /* Handle when a new output is added */\n    events.on('output_added.OutputArea', handleAddOutput);\n\n    /**\n     * Register the mime type and append_mime function with output_area\n     */\n    OutputArea.prototype.register_mime_type(EXEC_MIME_TYPE, append_mime, {\n      /* Is output safe? */\n      safe: true,\n      /* Index of renderer in `output_area.display_order` */\n      index: 0\n    });\n  }\n\n  // register the mime type if in Jupyter Notebook environment and previously unregistered\n  if (root.Jupyter !== undefined) {\n    const events = require('base/js/events');\n    const OutputArea = require('notebook/js/outputarea').OutputArea;\n\n    if (OutputArea.prototype.mime_types().indexOf(EXEC_MIME_TYPE) == -1) {\n      register_renderer(events, OutputArea);\n    }\n  }\n  if (typeof (root._bokeh_timeout) === \"undefined\" || force === true) {\n    root._bokeh_timeout = Date.now() + 5000;\n    root._bokeh_failed_load = false;\n  }\n\n  const NB_LOAD_WARNING = {'data': {'text/html':\n     \"<div style='background-color: #fdd'>\\n\"+\n     \"<p>\\n\"+\n     \"BokehJS does not appear to have successfully loaded. If loading BokehJS from CDN, this \\n\"+\n     \"may be due to a slow or bad network connection. Possible fixes:\\n\"+\n     \"</p>\\n\"+\n     \"<ul>\\n\"+\n     \"<li>re-rerun `output_notebook()` to attempt to load from CDN again, or</li>\\n\"+\n     \"<li>use INLINE resources instead, as so:</li>\\n\"+\n     \"</ul>\\n\"+\n     \"<code>\\n\"+\n     \"from bokeh.resources import INLINE\\n\"+\n     \"output_notebook(resources=INLINE)\\n\"+\n     \"</code>\\n\"+\n     \"</div>\"}};\n\n  function display_loaded(error = null) {\n    const el = document.getElementById(\"e06f3040-d78e-4a74-86e0-a3910368b8a1\");\n    if (el != null) {\n      const html = (() => {\n        if (typeof root.Bokeh === \"undefined\") {\n          if (error == null) {\n            return \"BokehJS is loading ...\";\n          } else {\n            return \"BokehJS failed to load.\";\n          }\n        } else {\n          const prefix = `BokehJS ${root.Bokeh.version}`;\n          if (error == null) {\n            return `${prefix} successfully loaded.`;\n          } else {\n            return `${prefix} <b>encountered errors</b> while loading and may not function as expected.`;\n          }\n        }\n      })();\n      el.innerHTML = html;\n\n      if (error != null) {\n        const wrapper = document.createElement(\"div\");\n        wrapper.style.overflow = \"auto\";\n        wrapper.style.height = \"5em\";\n        wrapper.style.resize = \"vertical\";\n        const content = document.createElement(\"div\");\n        content.style.fontFamily = \"monospace\";\n        content.style.whiteSpace = \"pre-wrap\";\n        content.style.backgroundColor = \"rgb(255, 221, 221)\";\n        content.textContent = error.stack ?? error.toString();\n        wrapper.append(content);\n        el.append(wrapper);\n      }\n    } else if (Date.now() < root._bokeh_timeout) {\n      setTimeout(() => display_loaded(error), 100);\n    }\n  }\n\n  function run_callbacks() {\n    try {\n      root._bokeh_onload_callbacks.forEach(function(callback) {\n        if (callback != null)\n          callback();\n      });\n    } finally {\n      delete root._bokeh_onload_callbacks\n    }\n    console.debug(\"Bokeh: all callbacks have finished\");\n  }\n\n  function load_libs(css_urls, js_urls, callback) {\n    if (css_urls == null) css_urls = [];\n    if (js_urls == null) js_urls = [];\n\n    root._bokeh_onload_callbacks.push(callback);\n    if (root._bokeh_is_loading > 0) {\n      console.debug(\"Bokeh: BokehJS is being loaded, scheduling callback at\", now());\n      return null;\n    }\n    if (js_urls == null || js_urls.length === 0) {\n      run_callbacks();\n      return null;\n    }\n    console.debug(\"Bokeh: BokehJS not loaded, scheduling load and callback at\", now());\n    root._bokeh_is_loading = css_urls.length + js_urls.length;\n\n    function on_load() {\n      root._bokeh_is_loading--;\n      if (root._bokeh_is_loading === 0) {\n        console.debug(\"Bokeh: all BokehJS libraries/stylesheets loaded\");\n        run_callbacks()\n      }\n    }\n\n    function on_error(url) {\n      console.error(\"failed to load \" + url);\n    }\n\n    for (let i = 0; i < css_urls.length; i++) {\n      const url = css_urls[i];\n      const element = document.createElement(\"link\");\n      element.onload = on_load;\n      element.onerror = on_error.bind(null, url);\n      element.rel = \"stylesheet\";\n      element.type = \"text/css\";\n      element.href = url;\n      console.debug(\"Bokeh: injecting link tag for BokehJS stylesheet: \", url);\n      document.body.appendChild(element);\n    }\n\n    for (let i = 0; i < js_urls.length; i++) {\n      const url = js_urls[i];\n      const element = document.createElement('script');\n      element.onload = on_load;\n      element.onerror = on_error.bind(null, url);\n      element.async = false;\n      element.src = url;\n      console.debug(\"Bokeh: injecting script tag for BokehJS library: \", url);\n      document.head.appendChild(element);\n    }\n  };\n\n  function inject_raw_css(css) {\n    const element = document.createElement(\"style\");\n    element.appendChild(document.createTextNode(css));\n    document.body.appendChild(element);\n  }\n\n  const js_urls = [\"https://cdn.holoviz.org/panel/1.6.0/dist/bundled/reactiveesm/es-module-shims@^1.10.0/dist/es-module-shims.min.js\", \"https://cdn.bokeh.org/bokeh/release/bokeh-3.6.2.min.js\", \"https://cdn.bokeh.org/bokeh/release/bokeh-gl-3.6.2.min.js\", \"https://cdn.bokeh.org/bokeh/release/bokeh-widgets-3.6.2.min.js\", \"https://cdn.bokeh.org/bokeh/release/bokeh-tables-3.6.2.min.js\", \"https://cdn.bokeh.org/bokeh/release/bokeh-mathjax-3.6.2.min.js\", \"https://unpkg.com/@holoviz/panel@1.6.0/dist/panel.min.js\"];\n  const css_urls = [];\n\n  const inline_js = [    function(Bokeh) {\n      Bokeh.set_log_level(\"info\");\n    },\nfunction(Bokeh) {\n    }\n  ];\n\n  function run_inline_js() {\n    if (root.Bokeh !== undefined || force === true) {\n      try {\n            for (let i = 0; i < inline_js.length; i++) {\n      inline_js[i].call(root, root.Bokeh);\n    }\n\n      } catch (error) {display_loaded(error);throw error;\n      }if (force === true) {\n        display_loaded();\n      }} else if (Date.now() < root._bokeh_timeout) {\n      setTimeout(run_inline_js, 100);\n    } else if (!root._bokeh_failed_load) {\n      console.log(\"Bokeh: BokehJS failed to load within specified timeout.\");\n      root._bokeh_failed_load = true;\n    } else if (force !== true) {\n      const cell = $(document.getElementById(\"e06f3040-d78e-4a74-86e0-a3910368b8a1\")).parents('.cell').data().cell;\n      cell.output_area.append_execute_result(NB_LOAD_WARNING)\n    }\n  }\n\n  if (root._bokeh_is_loading === 0) {\n    console.debug(\"Bokeh: BokehJS loaded, going straight to plotting\");\n    run_inline_js();\n  } else {\n    load_libs(css_urls, js_urls, function() {\n      console.debug(\"Bokeh: BokehJS plotting callback run at\", now());\n      run_inline_js();\n    });\n  }\n}(window));",
      "application/vnd.bokehjs_load.v0+json": ""
     },
     "metadata": {},
     "output_type": "display_data"
    },
    {
     "name": "stdout",
     "output_type": "stream",
     "text": [
      "Unable to initialize Neuprint.\n"
     ]
    }
   ],
   "source": [
    "import os\n",
    "import time\n",
    "import math\n",
    "import collections\n",
    "import numpy as np\n",
    "import pandas as pd\n",
    "import matplotlib.pyplot as plt\n",
    "import seaborn as sns\n",
    "from fafbseg import flywire\n",
    "import flycode\n",
    "import flycode.utils as utils\n",
    "import flycode.readfiles as readfiles\n",
    "import flycode.mapping as mapping\n",
    "import flycode.neuprint_reading as neuread\n",
    "import flycode.reduction as reduction\n",
    "import flycode.specific as specific\n",
    "import flycode.maintenance as maintenance\n",
    "import flycode.meshes as meshes\n",
    "import flycode.proofreading as proofreading\n",
    "import flycode.synapse_density as density\n",
    "import flycode.metu_comparison as comparison\n",
    "import flycode.annotations as annotations\n",
    "import flycode.volumes as volumes\n",
    "import flycode.flywire_functions as fw\n",
    "import flycode.figures as figures\n",
    "import flycode.path_weights as path_weights\n",
    "\n",
    "\n",
    "line_width = 0.2#0.0645\n",
    "plt.rcParams[\"font.family\"] = [\"Arial\", \"sans-serif\"]\n",
    "plt.rcParams[\"axes.linewidth\"] = line_width\n",
    "plt.rcParams[\"axes.edgecolor\"] = \"black\"\n",
    "plt.rcParams[\"xtick.major.width\"] = line_width\n",
    "plt.rcParams[\"xtick.minor.width\"] = line_width\n",
    "plt.rcParams[\"ytick.major.width\"] = line_width\n",
    "plt.rcParams[\"ytick.minor.width\"] = line_width\n",
    "\n",
    "\n",
    "#Easy reference type lists.\n",
    "all_mt_types = [\"1\",\"2a\",\"2b\",\"3a\",\"3b\",\"3c\",\"4a\",\"4b\",\"4c\",\"4d\"]\n",
    "mt1_l = [\"MeTu1_L\"]\n",
    "mt1_r = [\"MeTu1_R\"]\n",
    "mt2_l = [f\"MeTu2{x}_L\" for x in \"ab\"]\n",
    "mt2_r = [f\"MeTu2{x}_R\" for x in \"ab\"]\n",
    "mt3_l = [f\"MeTu3{x}_L\" for x in \"abc\"]\n",
    "mt3_r = [f\"MeTu3{x}_R\" for x in \"abc\"]\n",
    "mt4_l = [f\"MeTu4{x}_L\" for x in \"abcd\"]\n",
    "mt4_r = [f\"MeTu4{x}_R\" for x in \"abcd\"]\n",
    "mt_l = mt1_l + mt2_l + mt3_l + mt4_l\n",
    "mt_r = mt1_r + mt2_r + mt3_r + mt4_r\n",
    "all_mt_l = mt_l\n",
    "all_mt_r = mt_r + [\"MeTu_incomplete_R\"]\n",
    "all_mt = mt_l + mt_r\n",
    "mt_l_general = [f\"MeTu{x}_L\" for x in \"1234\"]\n",
    "mt_r_general = [f\"MeTu{x}_R\" for x in \"1234\"]\n",
    "tb_pl_l = [\"TuBu08_L\"]\n",
    "tb_pl_r = [\"TuBu08_R\"]\n",
    "pc_tb_types = \"16\"\n",
    "tb_pc_l = [f\"TuBu0{x}_L\" for x in pc_tb_types]\n",
    "tb_pc_r = [f\"TuBu0{x}_R\" for x in pc_tb_types]\n",
    "a_tb_types = [\"07\",\"09\",\"10\"]\n",
    "tb_a_l = [f\"TuBu{x}_L\" for x in a_tb_types]\n",
    "tb_a_r = [f\"TuBu{x}_R\" for x in a_tb_types]\n",
    "m_tb_types = \"2345\"\n",
    "tb_m_l = [f\"TuBu0{x}_L\" for x in m_tb_types]\n",
    "tb_m_r = [f\"TuBu0{x}_R\" for x in m_tb_types]\n",
    "all_tb_types = [f\"0{x!s}\" if x<10 else str(x) for x in range(1,11)]\n",
    "tb_l = [f\"TuBu{x}_L\" for x in all_tb_types]\n",
    "tb_r = [f\"TuBu{x}_R\" for x in all_tb_types]\n",
    "er_pl_l = [\"ER4d_L\"]\n",
    "er_pl_r = [\"ER4d_R\"]\n",
    "pc_ring_types = [\"4m\",\"5\"]\n",
    "er_pc_l = [f\"ER{x}_L\" for x in pc_ring_types]\n",
    "er_pc_r = [f\"ER{x}_R\" for x in pc_ring_types]\n",
    "a_ring_types = [\"3w_ab\",\"2_ad\",\"2_b\",\"2_c\"]\n",
    "er_a_l = [f\"ER{x}_L\" for x in a_ring_types] \n",
    "er_a_r = [f\"ER{x}_R\" for x in a_ring_types]\n",
    "er_a = [f\"ER{x}_{y}\" for x in a_ring_types for y in \"LR\"]\n",
    "m_ring_types = [\"3a_ad\",\"3m\",\"3d_a\",\"3d_b\",\"3d_c\",\"3d_d\",\"3p_ab\"]\n",
    "er_m_l = [f\"ER{x}_L\" for x in m_ring_types]\n",
    "er_m_r = [f\"ER{x}_R\" for x in m_ring_types]\n",
    "all_ring_types = [\"2_ad\",\"2_b\",\"2_c\",\n",
    "                  \"3a_ad\",\"3d_a\",\"3d_b\",\"3d_c\",\"3d_d\",\"3m\",\"3p_ab\",\"3w_ab\",\n",
    "                  \"4d\",\"4m\",\n",
    "                  \"5\"]\n",
    "er_l = [f\"ER{x}_L\" for x in all_ring_types]\n",
    "er_r = [f\"ER{x}_R\" for x in all_ring_types]\n",
    "er_all = [f\"ER{x}_{y}\" for x in all_ring_types for y in \"LR\"]\n",
    "retino_ring_order = [\"4d\"]+pc_ring_types+a_ring_types+m_ring_types\n",
    "er_l_retino = [f\"ER{x}_L\" for x in retino_ring_order]\n",
    "er_r_retino = [f\"ER{x}_R\" for x in retino_ring_order]\n",
    "\n",
    "aotu46 = aotu046 = [f\"AOTU046_{x}\" for x in \"LR\"]\n",
    "aotu46_indvid = [f\"AOTU046_{x}_{y}\" for x in \"LR\" for y in \"12\"]\n",
    "tutu = [f\"TuTuB_{x}_{y}\" for x in \"ab\" for y in \"LR\"]\n",
    "avp_all = all_mt_l+all_mt_r+tb_l+[\"TuBu_misc_L\"]+tb_r+er_l+er_r+aotu46+tutu\n",
    "\n",
    "\n",
    "#Easy Access Comparison Types\n",
    "gen_metu = [f\"MeTu{x}\" for x in [\"1\",\"2a\",\"2b\",\"3ab\",\"3c\",\"4a\",\"4b\",\"4c\",\"4d\",\n",
    "                                 \"4e\",\"4f\"]]\n",
    "gen_tubu = [f\"TuBu{x}\" for x in all_tb_types]\n",
    "gen_ring = [f\"ER{x}\" for x in all_ring_types]\n",
    "gen_bihem = [\"AOTU046\", \"TuTuB_a\", \"TuTuB_b\"]\n",
    "\n",
    "\n",
    "upstream_neurons = ['Dm2_R','DmDRA1_R','Mi15_R','R7_R','R7DRA_R','TmY31_R',\n",
    "                    'cM01c_R','cM02b_R','cM08a_R','cM12_L','cM13_L','MTe01a_R'] +\\\n",
    "                   [f'{x}_{y}' for y in \"LR\" for x in ['MeMeDRA','aMe19b',\n",
    "                                                       'MeMe_e01','MeMe_e02',\n",
    "                                                       'MeMe_e10',]] \n",
    "    \n",
    "\n",
    "upstream_with_mi1 = upstream_neurons[:13] + [\"Mi1_L\", \"Mi1_R\"] + \\\n",
    "            upstream_neurons[13:]\n",
    "\n",
    "\n",
    "epg = [f\"EPG_R{x!s}\" for x in range(8,0,-1)]+\\\n",
    "      [f\"EPG_L{x!s}\" for x in range(1,9)]\n",
    "epg_retino = [f\"EPG_{x}{y}\" for x,y in zip(\"LR\"*8, \n",
    "        np.array([[a,b] for a,b in zip(range(1,9),range(8,0,-1))]).flatten())]\n",
    "er_all_plus_lal = [\"ER1_L\", \"ER1_R\"] + er_all[:8] + [\"ER3a_bc_L\", \"ER3a_bc_R\"] +\\\n",
    "            er_all[8:] + [\"ER6_L\", \"ER6_R\"]\n",
    "er_all_all = er_all_plus_lal[:12] + [\"ER3_misc_R\"] + er_all_plus_lal[12:]\n",
    "\n",
    "exr = [f\"ExR{x!s}_{y}\" for x in range(1,9) for y in \"LR\"]\n",
    "\n",
    "all_path_neurs = er_all_all + exr + [f\"{x}_{y}\" for x in [\"FB8B\", \"OA-AL2i1\", \n",
    "                                                          \"IbSpsP\", \"LNO2\"] for y in \"LR\"]\n",
    "\n",
    "epg = [f\"EPG_R{x!s}\" for x in range(8,0,-1)]+\\\n",
    "      [f\"EPG_L{x!s}\" for x in range(1,9)]\n",
    "epg_retino = [f\"EPG_{x}{y}\" for x,y in zip(\"LR\"*8, \n",
    "        np.array([[a,b] for a,b in zip(range(1,9),range(8,0,-1))]).flatten())]\n",
    "\n",
    "pen1 = [f\"PEN1_R{x!s}\" for x in range(9,1,-1)]+\\\n",
    "       [f\"PEN1_L{x!s}\" for x in range(2,10)]\n",
    "pen2 = [f\"PEN2_R{x!s}\" for x in range(9,1,-1)]+\\\n",
    "       [f\"PEN2_L{x!s}\" for x in range(2,10)]\n",
    "peg = [f\"PEG_R{x!s}\" for x in range(9,0,-1)]+\\\n",
    "      [f\"PEG_L{x!s}\" for x in range(1,10)]\n",
    "el = [f\"EL_{x}\" for x in \"LR\"]\n",
    "epgt = [f\"EPGt_{x}\" for x in \"LR\"]\n",
    "\n",
    "eb = epg + pen1 + pen2 + peg + el + epgt\n",
    "eb_broad = [f\"{x}_{y}\" for x in [\"EPG\",\"PEN1\",\"PEN2\",\"PEG\",\"EL\",\"EPGt\"] \n",
    "                       for y in \"LR\"]\n",
    "\n",
    "all_in_paper = [f\"MeTu{x}_{y}\" for x in all_mt_types for y in \"LR\"] +\\\n",
    "               [\"MeTu_incomplete_R\"] +\\\n",
    "               [f\"TuBu{x}_{y}\" for x in all_tb_types for y in \"LR\"] +\\\n",
    "               [\"TuBu_misc_L\"] +\\\n",
    "               er_all_all +\\\n",
    "               tutu +\\\n",
    "               aotu46 +\\\n",
    "               upstream_with_mi1 +\\\n",
    "               exr +\\\n",
    "               eb\n",
    "        \n",
    "mt1_r_outlier_coords = np.array([[202927, 71601, 4917]])\n",
    "mt2_r_outlier_coords = np.array([[170645, 42981, 1977]])\n",
    "mt4_r_outlier_coords = np.array([[202103, 56303, 5479], \n",
    "                                    [203472, 61664, 5513],\n",
    "                                    [201806, 62921, 4839],])\n",
    "\n",
    "#ring_outlier_coords = np.array([[118158, 44346, 2494]])\n",
    "fig_size_mt_tb = (1.5, 1.5)\n",
    "bihem_size = (3, 3)\n",
    "fig_size_mt1 = (1.3, 1.3)\n",
    "fig_size_mt_tb_pl = (3.6, 3.6)\n",
    "fig_size_tb_er_pl_r = (1.3, 1.3)\n",
    "fig_size_mt2 = (1.1, 1.1)\n",
    "fig_size_mt_tb_pc = (3.5, 3.5)\n",
    "fig_size_tb_er_pc = (1.3, 1.3)\n",
    "fig_size_mt3 = (1.1, 1.1)\n",
    "fig_size_mt_tb_a = (3.5, 3.5)\n",
    "fig_size_tb_er_a = (1.3, 1.3)\n",
    "fig_size_mt4 = (1.1, 1.1)\n",
    "fig_size_mt_tb_m = (3.45, 3.45)\n",
    "fig_size_tb_er_m = (2.2, 2.2)\n",
    "\n",
    "regions = {\"AME_L\": 1, \"LO_L\": 2, \"NO\": 3, \"BU_L\": 4, \"PB\": 5, \"LH_L\": 6,\n",
    "           \"LAL_L\": 7, \"SAD\": 8, \"CAN_L\": 9, \"AMMC_L\": 10, \"ICL_L\": 11,\n",
    "           \"VES_L\": 12, \"IB_L\": 13, \"ATL_L\": 14, \"CRE_L\": 15, \"MB_PED_L\": 16,\n",
    "           \"MB_VL_L\": 17, \"MB_ML_L\": 18, \"FLA_L\": 19, \"LOP_L\": 20, \"EB\": 21,\n",
    "           \"AL_L\": 22, \"ME_L\": 23, \"FB\": 24, \"SLP_L\": 25, \"SIP_L\": 26,\n",
    "           \"SMP_L\": 27, \"AVLP_L\": 28, \"PVLP_L\": 29, \"WED_L\": 30, \"PLP_L\": 31,\n",
    "           \"AOTU_L\": 32, \"GOR_L\": 33, \"MB_CA_L\": 34, \"SPS_L\": 35, \"IPS_L\": 36,\n",
    "           \"SCL_L\": 37, \"EPA_L\": 38, \"GNG\": 39, \"PRW\": 40, \"GA_L\": 41,\n",
    "           \"AME_R\": 42, \"LO_R\": 43, \"BU_R\": 44, \"LH_R\": 45, \"LAL_R\": 46,\n",
    "           \"CAN_R\": 47, \"AMMC_R\": 48, \"ICL_R\": 49, \"VES_R\": 50, \"IB_R\": 51,\n",
    "           \"ATL_R\": 52, \"CRE_R\": 53, \"MB_PED_R\": 54, \"MB_VL_R\": 55, \n",
    "           \"MB_ML_R\": 56, \"FLA_R\": 57, \"LOP_R\": 58, \"AL_R\": 59, \"ME_R\": 60,\n",
    "           \"SLP_R\": 61, \"SIP_R\": 62, \"SMP_R\": 63, \"AVLP_R\": 64, \"PVLP_R\": 65,\n",
    "           \"WED_R\": 66, \"PLP_R\": 67, \"AOTU_R\": 68, \"GOR_R\": 69, \"MB_CA_R\": 70,\n",
    "           \"SPS_R\": 71, \"IPS_R\": 72, \"SCL_R\": 73, \"EPA_R\": 74, \"GA_R\": 75}\n",
    "for i in regions.copy():\n",
    "    regions[regions[i]] = i\n",
    "\n",
    "#Sets up required subdirectories\n",
    "plot_folder = \"\"\n",
    "directory = os.getcwd()\n",
    "directory = os.path.join(directory, \"flycode\")\n",
    "for i in [\"Excel-Plots\", \"Generated-Figures\", \"Importable-Coords\",\n",
    "          \"Meshes\", \"Readable\"]:\n",
    "    subfolders = [x.path for x in os.scandir(directory) if x.is_dir()]\n",
    "    temp_directory = os.path.join(directory, i)\n",
    "    if not temp_directory in subfolders:\n",
    "        os.mkdir(temp_directory)\n",
    "\n",
    "\n"
   ]
  },
  {
   "cell_type": "markdown",
   "metadata": {},
   "source": [
    "## Figure 1"
   ]
  },
  {
   "cell_type": "code",
   "execution_count": null,
   "metadata": {},
   "outputs": [],
   "source": [
    "plot_folder = \"Fig 1\"\n",
    "\n",
    "#Fig. 1c\n",
    "full_region = density.plot_type_density(\\\n",
    "        mt_r+tb_r, plot_name=\"Full Region\", plot_folder=plot_folder)\n",
    "for i in mt_r+tb_r:\n",
    "    if i in mt1_r+tb_pl_r:\n",
    "        color = \"RegionSolidRed\"\n",
    "    elif i in mt2_r+tb_pc_r:\n",
    "        color = \"RegionSolidBlue\"\n",
    "    elif i in mt3_r+tb_a_r:\n",
    "        color = \"RegionSolidGreen\"\n",
    "    else:\n",
    "        color = \"RegionSolidYellow\"\n",
    "    density.plot_type_density([i], color=color, plot_name=i, \n",
    "                                plot_folder=plot_folder)\n",
    "\n"
   ]
  },
  {
   "cell_type": "code",
   "execution_count": null,
   "metadata": {},
   "outputs": [],
   "source": [
    "plot_folder = \"Fig 1\"\n",
    "\n",
    "#Fig. 1d\n",
    "mt_tb_r = mapping.ConnectionMap(mt_r_general, tb_r, \"AOTU_R\")\n",
    "mt_tb_r.make_type_plots(plot_name = \"MeTu_R to TuBu_R\", \n",
    "                        plot_folder=plot_folder, fig_size=fig_size_mt_tb)\n",
    "\n",
    "mt_tb_r = mapping.ConnectionMap(mt_r, tb_r, \"AOTU_R\") #Specific\n",
    "mt_tb_r.make_type_plots(plot_name=\"Subtyped MeTu_R to TuBu_R\",\n",
    "                        plot_folder=plot_folder)\n"
   ]
  },
  {
   "cell_type": "markdown",
   "metadata": {},
   "source": [
    "## Figure EDF1"
   ]
  },
  {
   "cell_type": "code",
   "execution_count": null,
   "metadata": {},
   "outputs": [],
   "source": [
    "plot_folder = \"Fig EDF1\"\n",
    "\n",
    "#Fig. EDF1biii and EDF1biv\n",
    "f1_scores = volumes.compare_f1_scores()\n",
    "volumes.plot_f1(f1_scores, plot_folder=plot_folder)\n",
    "volumes.get_all_t_tests(f1_scores) #Gets t-test p-scores."
   ]
  },
  {
   "cell_type": "markdown",
   "metadata": {},
   "source": [
    "## Figure EDF2"
   ]
  },
  {
   "cell_type": "code",
   "execution_count": null,
   "metadata": {},
   "outputs": [],
   "source": [
    "plot_folder = \"Fig EDF2\"\n",
    "\n",
    "#Fig. EDF2a\n",
    "path_weights.make_weight_strip_plot(\"CX Neuron Weight Strip Plot\", plot_folder=plot_folder)\n",
    "\n",
    "#Fig. EDF2bi\n",
    "exr1_path = path_weights.get_renderable_neurs(\"ExR1\")\n",
    "\n",
    "#Fig. EDF2bii\n",
    "fb8b_path = path_weights.get_renderable_neurs(\"FB8B\")\n",
    "\n",
    "#Fig. EDF2biii\n",
    "oaal_path = path_weights.get_renderable_neurs(\"OA-AL2i1\")\n",
    "\n",
    "#Fib. EDF2biv\n",
    "exr5_path = path_weights.get_renderable_neurs(\"ExR5\")"
   ]
  },
  {
   "cell_type": "markdown",
   "metadata": {},
   "source": [
    "## Figure EDF3"
   ]
  },
  {
   "cell_type": "code",
   "execution_count": null,
   "metadata": {},
   "outputs": [
    {
     "name": "stderr",
     "output_type": "stream",
     "text": [
      "Fetching synapses:   7%|▋         | 1/14 [00:02<00:29,  2.24s/it]"
     ]
    }
   ],
   "source": [
    "plot_folder = \"Fig EDF3\"\n",
    "\n",
    "#Fig. EDF3a\n",
    "density_plot = density.plot_region_density(density.AotuRegion.POSTERIOR_LATERAL, \n",
    "                                           plot_folder=plot_folder, \n",
    "                                           blur=10)\n",
    "\n",
    "#Fig. EDF3b\n",
    "density_plot = density.plot_region_density(density.AotuRegion.POSTERIOR_CENTRAL, \n",
    "                                           plot_folder=plot_folder, \n",
    "                                           blur=10)\n",
    "\n",
    "#Fig. EDF3c\n",
    "density_plot = density.plot_region_density(density.AotuRegion.ANTERIOR, \n",
    "                                           plot_folder=plot_folder, \n",
    "                                           blur=10)\n",
    "\n",
    "#Fig. EDF3d\n",
    "density_plot = density.plot_region_density(density.AotuRegion.MEDIAL, \n",
    "                                           plot_folder=plot_folder, \n",
    "                                           blur=10)"
   ]
  },
  {
   "cell_type": "markdown",
   "metadata": {},
   "source": [
    "## Figure EDF4"
   ]
  },
  {
   "cell_type": "code",
   "execution_count": null,
   "metadata": {},
   "outputs": [],
   "source": [
    "plot_folder = \"Fig EDF4\"\n",
    "\n",
    "#Fig. EDF4a\n",
    "line_widths = specific.get_bihem_weight_line_width()\n",
    "for i in line_widths:\n",
    "    print(i, line_widths[i])"
   ]
  },
  {
   "cell_type": "code",
   "execution_count": null,
   "metadata": {},
   "outputs": [],
   "source": [
    "plot_folder = \"Fig EDF4\"\n",
    "\n",
    "#Fig. EDF4b, EDF4di-ii\n",
    "specific.make_bihem_pie_charts(plot_folder=plot_folder)"
   ]
  },
  {
   "cell_type": "code",
   "execution_count": null,
   "metadata": {},
   "outputs": [],
   "source": [
    "plot_folder = \"Fig EDF4\"\n",
    "\n",
    "#Fig. EDF4c\n",
    "comparison.nt_by_types([\"AOTU046_L_1\", \"AOTU046_L_2\", \"AOTU046_R_1\", \"AOTU046_R_2\"],\n",
    "        palette=[\"#e6194B\", \"#EBC400\", \"#3E7748\", \"#4400dd\"],\n",
    "        plot_names=[\"AOTU046 NT Predictions\"], plot_folder=plot_folder,\n",
    "        fig_size=(1, 0.75))\n",
    "\n",
    "#Fig. EDF4ei\n",
    "comparison.nt_by_types([\"TuTuB_a_L\", \"TuTuB_a_R\"], \n",
    "                       plot_names=[\"TuTuB_a NT Predictions\"], \n",
    "                       plot_folder=plot_folder,\n",
    "                       palette=[\"#e6194B\", \"#3E7748\"])\n",
    "\n",
    "#Fig. EDF4eii\n",
    "comparison.nt_by_types([\"TuTuB_b_L\", \"TuTuB_b_R\"],\n",
    "                       plot_names=[\"TuTuB_b NT Predictions\"], \n",
    "                       plot_folder=plot_folder,\n",
    "                       palette=[\"#e6194B\", \"#3E7748\"])"
   ]
  },
  {
   "cell_type": "code",
   "execution_count": null,
   "metadata": {},
   "outputs": [],
   "source": [
    "plot_folder = \"Fig EDF4\"\n",
    "\n",
    "#Fig. EDF4f\n",
    "specific.tutu_comparison(plot_name=\"TuTu Synapse Counts Comparison\", \n",
    "                         plot_folder=plot_folder)"
   ]
  },
  {
   "cell_type": "markdown",
   "metadata": {},
   "source": [
    "## Figure EDF7"
   ]
  },
  {
   "cell_type": "code",
   "execution_count": null,
   "metadata": {},
   "outputs": [],
   "source": [
    "plot_folder = \"Fig EDF7\"\n",
    "\n",
    "#Fig. EDF7a\n",
    "specific.sm17_map_by_dv_axis(plot_name= \n",
    "        \"MeTu3bc Vertical Positioning by Connections to Sm17\",\n",
    "        plot_folder=plot_folder)\n",
    "\n",
    "#Fig. EDF7b\n",
    "specific.mt3_pre_connections([\"Sm23\", \"MeMeDRA\", \"Mi15\"], \n",
    "                             plot_name=\"MeTu3 Presynaptic\", plot_folder=plot_folder)"
   ]
  },
  {
   "cell_type": "markdown",
   "metadata": {},
   "source": [
    "## Figure EDF9"
   ]
  },
  {
   "cell_type": "code",
   "execution_count": null,
   "metadata": {},
   "outputs": [],
   "source": [
    "plot_folder = \"Fig EDF9\"\n",
    "\n",
    "#Fig. EDF9a\n",
    "neuread.plot_comparison(gen_metu,\n",
    "        datasets={\"FAFB\": \"LR\", \"Hemibrain\": \"R\", \"FIB-SEM\": \"R\"},\n",
    "        plot_name=\"MeTu Neuron Counts Comparison\", \n",
    "        plot_folder=plot_folder,\n",
    "        y_ticks=np.arange(0, 140, 20))\n",
    "\n",
    "#Fig. EDF9b\n",
    "neuread.plot_comparison(gen_tubu, \n",
    "        plot_name=\"TuBu Neuron Counts Comparison\", \n",
    "        plot_folder=plot_folder,\n",
    "        y_ticks=np.arange(0, 14, 2))\n",
    "\n",
    "#Fig. EDF9c\n",
    "neuread.plot_comparison(gen_ring,\n",
    "        datasets={\"FAFB\": \"LR\", \"Hemibrain\": \"LR\"},\n",
    "        plot_name=\"Ring Neuron Counts Comparison\", \n",
    "        plot_folder=plot_folder,\n",
    "        y_ticks=np.arange(0, 14, 2), fig_size = (2.4, 1.25))\n",
    "\n",
    "#Fig. EDF9d\n",
    "neuread.plot_comparison(gen_bihem, \n",
    "        datasets={\"FAFB\": \"LR\", \"Hemibrain\": \"LR\"},\n",
    "        plot_name=\"Bihemispheric Neuron Counts Comparison\", \n",
    "        plot_folder=plot_folder,\n",
    "        y_ticks=np.arange(0, 3, 1))"
   ]
  },
  {
   "cell_type": "code",
   "execution_count": null,
   "metadata": {},
   "outputs": [],
   "source": [
    "plot_folder = \"Fig EDF9\"\n",
    "\n",
    "#Fig. EDF9e\n",
    "neuread.ratio_plot(neuread.Ratio.METU_TO_TUBU, plot_name=\\\n",
    "    \"Ratio of MeTu Neurons to TuBu Neurons per Hemisphere\",\n",
    "    plot_folder=plot_folder,\n",
    "    y_ticks=np.arange(0, 18, 3))\n",
    "\n",
    "#Fig. EDF9f\n",
    "neuread.ratio_plot(neuread.Ratio.TUBU_TO_RING, plot_name=\\\n",
    "    \"Ratio of TuBu Neurons to Ring Neurons per Hemisphere\",\n",
    "    plot_folder=plot_folder,\n",
    "    y_ticks=np.arange(0,5,1))"
   ]
  },
  {
   "cell_type": "code",
   "execution_count": null,
   "metadata": {},
   "outputs": [],
   "source": [
    "plot_folder = \"Fig EDF9\"\n",
    "\n",
    "#Fig. EDF9g\n",
    "neuread.lobula_counts(just_metu4=True,\n",
    "        plot_name=\"Lobula Synapse Count in Hemibrain MeTu4\",\n",
    "        plot_folder=plot_folder,)\n",
    "\n",
    "#Fig. EDF9h\n",
    "specific.full_comparison([f\"MeTu4{x}\" for x in \"abcd\"], \"LO\", \n",
    "        plot_name=\"Lobula Synapse Count per MeTu4 Neuron\", \n",
    "        plot_folder=plot_folder,\n",
    "        y_axis=\"Lobula Synapse Count\")"
   ]
  },
  {
   "cell_type": "code",
   "execution_count": null,
   "metadata": {},
   "outputs": [],
   "source": [
    "plot_folder = \"Fig EDF9\"\n",
    "\n",
    "#Fig. EDF9i_i-ii\n",
    "comparison.mt4e_partner_comparison(\"Partner Type Comparison\", \n",
    "                                   plot_folder=plot_folder,\n",
    "                                   save_figure=True)\n",
    "\n",
    "#Fig. EDF9i_iii-viii\n",
    "comparison.mt4e_dendrite_comparison(\"Comparing\",\n",
    "                                  plot_folder=plot_folder,\n",
    "                                  save_figure=True)"
   ]
  },
  {
   "cell_type": "markdown",
   "metadata": {},
   "source": [
    "## Figure EDF10"
   ]
  },
  {
   "cell_type": "code",
   "execution_count": null,
   "metadata": {},
   "outputs": [],
   "source": [
    "plot_folder = \"Fig EDF10\"\n",
    "\n",
    "#Fig. EDF10ai-vi\n",
    "for i in [\"Medulla Presynapse Count\", \"Medulla Postsynapse Count\",\n",
    "          \"Column Count\", \"AOTU Presynapse Count\",\n",
    "          \"AOTU Postsynapse Count\", \"Ellipse Ratio\"]:\n",
    "    comparison.compare_metu(i, plot_folder=plot_folder)"
   ]
  },
  {
   "cell_type": "code",
   "execution_count": null,
   "metadata": {},
   "outputs": [],
   "source": [
    "plot_folder = \"Fig EDF10\"\n",
    "\n",
    "#Fig. EDF10bi-viii\n",
    "for i in [\"Medulla Postsynapse Count\", \"AOTU Postsynapse Count\",\n",
    "          \"Medulla Presynapse Count\", \"AOTU Presynapse Count\",\n",
    "          \"Column Count\", \"Ellipse Ratio\", \"Ellipse Major Axis Length (nm)\",\n",
    "          \"Ellipse Minor Axis Length (nm)\"]:\n",
    "    for j in [\"A-P\", \"V-D\"]:\n",
    "        comparison.scatter_plots(x=f\"Relative Offset from Medulla Centroid ({j})\",\n",
    "                                 y=i, plot_name=f\"{i} {j}\", plot_folder=plot_folder)"
   ]
  },
  {
   "cell_type": "markdown",
   "metadata": {},
   "source": [
    "## Figure EDF11"
   ]
  },
  {
   "cell_type": "code",
   "execution_count": null,
   "metadata": {},
   "outputs": [],
   "source": [
    "plot_folder = \"Fig EDF11\"\n",
    "width_conversion = lambda x : 200.59*x - 0.0621\n",
    "\n",
    "#Fig. EDF11bi\n",
    "mapping.add_broad_type(\"TuBu_R\", tb_r)\n",
    "mapping.add_broad_type(\"TuTuB_a\", [f\"TuTuB_a_{x}\" for x in \"LR\"])\n",
    "mapping.add_broad_type(\"TuTuB_b\", [f\"TuTuB_b_{x}\" for x in \"LR\"])\n",
    "mapping.add_broad_type(\"AOTU046\", [f\"AOTU046_{x}\" for x in \"LR\"])\n",
    "all_tubu_weights = mapping.get_total_weight(mt_r+[\"AOTU046\", \"TuTuB_a\", \"TuTuB_b\"],\n",
    "        [\"TuBu_R\"], \n",
    "        region=\"AOTU_R\",\n",
    "        rounded=1,\n",
    "        width_conversion=width_conversion)\n",
    "for i in all_tubu_weights:\n",
    "    print(i, all_tubu_weights[i])\n",
    "\n",
    "#Fig. EDF11bii\n",
    "mapping.add_broad_type(\"ER_R\", er_r)\n",
    "mapping.add_broad_type(\"AOTU046\", [f\"AOTU046_{x}\" for x in \"LR\"])\n",
    "all_ring_weights = mapping.get_total_weight(tb_r+[\"AOTU046\"], \n",
    "        [\"ER_R\"], \n",
    "        region=\"BU_R\",\n",
    "        rounded=1,\n",
    "        width_conversion=width_conversion)\n",
    "for i in all_ring_weights:\n",
    "    print(i, all_ring_weights[i])"
   ]
  },
  {
   "cell_type": "code",
   "execution_count": null,
   "metadata": {},
   "outputs": [],
   "source": [
    "plot_folder = \"Fig EDF11\"\n",
    "\n",
    "#Fig. EDF11c\n",
    "ring_to_epg = mapping.ConnectionMap(er_all, epg, \"EB\")\n",
    "ring_to_epg.make_type_plots(\"Ring to EPG\", plot_folder=plot_folder, fig_size=(3.0, 4.0))"
   ]
  },
  {
   "cell_type": "markdown",
   "metadata": {},
   "source": [
    "## Figure EDF12"
   ]
  },
  {
   "cell_type": "code",
   "execution_count": null,
   "metadata": {},
   "outputs": [],
   "source": [
    "plot_folder = \"Fig EDF12\"\n",
    "\n",
    "#Fig. EDF12a-j\n",
    "metu_nts = comparison.nt_by_types(\\\n",
    "        [f\"{x}_R\" for x in comparison.colors], \n",
    "        palette=list(comparison.colors.values()), \n",
    "        plot_names=[f\"{x} Neurotransmitter Prediction\" for x in comparison.colors.keys()],\n",
    "        plot_folder=plot_folder,\n",
    "        save_figure=True,\n",
    "        fig_size=(1,0.75), \n",
    "        separate_plots=True)"
   ]
  },
  {
   "cell_type": "markdown",
   "metadata": {},
   "source": [
    "## SI Data Set 1"
   ]
  },
  {
   "cell_type": "markdown",
   "metadata": {},
   "source": [
    "#### MeTu Interconnectivity (Medulla)"
   ]
  },
  {
   "cell_type": "code",
   "execution_count": null,
   "metadata": {},
   "outputs": [],
   "source": [
    "plot_folder = \"SI Data Set 1\"\n",
    "\n",
    "#1ai\n",
    "mt1_r_outliers = fw.locs_to_segments(mt1_r_outlier_coords)\n",
    "mt1_r_inter_me = mapping.ConnectionMap(mt1_r, mt1_r, \"ME_R\", exclude=mt1_r_outliers)\n",
    "mt1_r_inter_me.make_connectivity_plots(plot_name=\"MT1_R Interconnectivity (ME_R)\",\n",
    "                                       plot_folder=plot_folder,\n",
    "                                       fig_size=fig_size_mt1)\n",
    "\n",
    "#1aii\n",
    "mt1_l_inter_me = mapping.ConnectionMap(mt1_l, mt1_l, \"ME_L\")\n",
    "mt1_l_inter_me.make_connectivity_plots(plot_name=\"MT1_L Interconnectivity (ME_L)\",\n",
    "                                       plot_folder=plot_folder,\n",
    "                                       fig_size=fig_size_mt1)"
   ]
  },
  {
   "cell_type": "code",
   "execution_count": null,
   "metadata": {},
   "outputs": [],
   "source": [
    "plot_folder = \"SI Data Set 1\"\n",
    "\n",
    "#1aiii\n",
    "mt2_r_outliers = fw.locs_to_segments(mt2_r_outlier_coords)\n",
    "mt2_r_inter_me = mapping.ConnectionMap(mt2_r, mt2_r, \"ME_R\", exclude = mt2_r_outliers)\n",
    "mt2_r_inter_me.make_connectivity_plots(plot_name=\"MT2_R Interconnectivity (ME_R)\",\n",
    "                                       plot_folder=plot_folder,\n",
    "                                       fig_size=fig_size_mt2)\n",
    "\n",
    "#1aiv\n",
    "mt2_l_inter_me = mapping.ConnectionMap(mt2_l, mt2_l, \"ME_L\")\n",
    "mt2_l_inter_me.make_connectivity_plots(plot_name=\"MT2_L Interconnectivity (ME_L)\",\n",
    "                                       plot_folder=plot_folder,\n",
    "                                       fig_size=fig_size_mt2)"
   ]
  },
  {
   "cell_type": "code",
   "execution_count": null,
   "metadata": {},
   "outputs": [],
   "source": [
    "plot_folder = \"SI Data Set 1\"\n",
    "\n",
    "#1av\n",
    "mt3_r_inter_me = mapping.ConnectionMap(mt3_r, mt3_r, \"ME_R\")\n",
    "mt3_r_inter_me.make_connectivity_plots(plot_name=\"MT3_R Interconnectivity (ME_R)\",\n",
    "                                       plot_folder=plot_folder,\n",
    "                                       fig_size=fig_size_mt3)\n",
    "\n",
    "#1avi\n",
    "mt3_l_inter_me = mapping.ConnectionMap(mt3_l, mt3_l, \"ME_L\")\n",
    "mt3_l_inter_me.make_connectivity_plots(plot_name=\"MT3_L Interconnectivity (ME_L)\",\n",
    "                                       plot_folder=plot_folder,\n",
    "                                       fig_size=fig_size_mt3)"
   ]
  },
  {
   "cell_type": "code",
   "execution_count": null,
   "metadata": {},
   "outputs": [],
   "source": [
    "plot_folder = \"SI Data Set 1\"\n",
    "\n",
    "#1avii\n",
    "mt4_r_outliers = fw.locs_to_segments(mt4_r_outlier_coords)\n",
    "mt4_r_inter_me = mapping.ConnectionMap(mt4_r, mt4_r, \"ME_R\", exclude = mt4_r_outliers)\n",
    "mt4_r_inter_me.make_connectivity_plots(plot_name=\"MT4_R Interconnectivity (ME_R)\",\n",
    "                                       plot_folder=plot_folder,\n",
    "                                       fig_size=fig_size_mt4)\n",
    "\n",
    "#1aviii\n",
    "mt4_l_inter_me = mapping.ConnectionMap(mt4_l, mt4_l, \"ME_L\",)\n",
    "mt4_l_inter_me.make_connectivity_plots(plot_name=\"MT4_L Interconnectivity (ME_L)\",\n",
    "                                       plot_folder=plot_folder,\n",
    "                                       fig_size=fig_size_mt4)"
   ]
  },
  {
   "cell_type": "markdown",
   "metadata": {},
   "source": [
    "#### MeTu Interconnectivity (AOTU)"
   ]
  },
  {
   "cell_type": "code",
   "execution_count": null,
   "metadata": {},
   "outputs": [],
   "source": [
    "plot_folder = \"SI Data Set 1\"\n",
    "\n",
    "#1bi\n",
    "mt1_r_outliers = fw.locs_to_segments(mt1_r_outlier_coords)\n",
    "mt1_r_inter_aotu = mapping.ConnectionMap(mt1_r, mt1_r, \"AOTU_R\",)\n",
    "mt1_r_inter_aotu.make_connectivity_plots(plot_name=\"MT1_R Interconnectivity (AOTU_R)\",\n",
    "                                         plot_folder=plot_folder,\n",
    "                                         fig_size=fig_size_mt1)\n",
    "\n",
    "#1bii\n",
    "mt1_l_inter_aotu = mapping.ConnectionMap(mt1_l, mt1_l, \"AOTU_L\")\n",
    "mt1_l_inter_aotu.make_connectivity_plots(plot_name=\"MT1_L Interconnectivity (AOTU_L)\",\n",
    "                                         plot_folder=plot_folder,\n",
    "                                         fig_size=fig_size_mt1)"
   ]
  },
  {
   "cell_type": "code",
   "execution_count": null,
   "metadata": {},
   "outputs": [],
   "source": [
    "plot_folder = \"SI Data Set 1\"\n",
    "\n",
    "#1biii\n",
    "mt2_r_inter_aotu = mapping.ConnectionMap(mt2_r, mt2_r, \"AOTU_R\",)\n",
    "mt2_r_inter_aotu.make_connectivity_plots(plot_name=\"MT2_R Interconnectivity (AOTU_R)\",\n",
    "                                         plot_folder=plot_folder,\n",
    "                                         fig_size=fig_size_mt2)\n",
    "\n",
    "#1biv\n",
    "mt2_l_inter_aotu = mapping.ConnectionMap(mt2_l, mt2_l, \"AOTU_L\")\n",
    "mt2_l_inter_aotu.make_connectivity_plots(plot_name=\"MT2_L Interconnectivity (AOTU_L)\",\n",
    "                                         plot_folder=plot_folder,\n",
    "                                         fig_size=fig_size_mt2)"
   ]
  },
  {
   "cell_type": "code",
   "execution_count": null,
   "metadata": {},
   "outputs": [],
   "source": [
    "plot_folder = \"SI Data Set 1\"\n",
    "\n",
    "#1bv\n",
    "mt3_r_inter_aotu = mapping.ConnectionMap(mt3_r, mt3_r, \"AOTU_R\")\n",
    "mt3_r_inter_aotu.make_connectivity_plots(plot_name=\"MT3_R Interconnectivity (AOTU_R)\",\n",
    "                                         plot_folder=plot_folder,\n",
    "                                         fig_size=fig_size_mt3)\n",
    "\n",
    "#1bvi\n",
    "mt3_l_inter_aotu = mapping.ConnectionMap(mt3_l, mt3_l, \"AOTU_L\")\n",
    "mt3_l_inter_aotu.make_connectivity_plots(plot_name=\"MT3_L Interconnectivity (AOTU_L)\",\n",
    "                                         plot_folder=plot_folder,\n",
    "                                         fig_size=fig_size_mt3)"
   ]
  },
  {
   "cell_type": "code",
   "execution_count": null,
   "metadata": {},
   "outputs": [],
   "source": [
    "plot_folder = \"SI Data Set 1\"\n",
    "\n",
    "#1bvii\n",
    "mt4_r_inter_aotu = mapping.ConnectionMap(mt4_r, mt4_r, \"AOTU_R\",)\n",
    "mt4_r_inter_aotu.make_connectivity_plots(plot_name=\"MT4_R Interconnectivity (AOTU_R)\",\n",
    "                                         plot_folder=plot_folder,\n",
    "                                         fig_size=fig_size_mt4)\n",
    "\n",
    "#1bviii\n",
    "mt4_l_inter_aotu = mapping.ConnectionMap(mt4_l, mt4_l, \"AOTU_L\",)\n",
    "mt4_l_inter_aotu.make_connectivity_plots(plot_name=\"MT4_L Interconnectivity (AOTU_L)\",\n",
    "                                         plot_folder=plot_folder,\n",
    "                                         fig_size=fig_size_mt4)"
   ]
  },
  {
   "cell_type": "markdown",
   "metadata": {},
   "source": [
    "#### MeTu to TuBu Connections"
   ]
  },
  {
   "cell_type": "code",
   "execution_count": null,
   "metadata": {},
   "outputs": [],
   "source": [
    "plot_folder = \"SI Data Set 1\"\n",
    "\n",
    "#1ci\n",
    "mt_tb_pl_r = mapping.ConnectionMap(mt1_r, tb_pl_r, \"AOTU_R\")\n",
    "mt_tb_pl_r.make_connectivity_plots(plot_name=\"MeTu1_R to TuBu_R\",\n",
    "                                   plot_folder=plot_folder,\n",
    "                                   fig_size=fig_size_mt_tb_pl)\n",
    "\n",
    "#1cii\n",
    "mt_tb_pl_l = mapping.ConnectionMap(mt1_l, tb_pl_l, \"AOTU_L\")\n",
    "mt_tb_pl_l.make_connectivity_plots(plot_name=\"MeTu1_L to TuBu_L\",\n",
    "                                   plot_folder=plot_folder,\n",
    "                                   fig_size=fig_size_mt_tb_pl)"
   ]
  },
  {
   "cell_type": "code",
   "execution_count": null,
   "metadata": {},
   "outputs": [],
   "source": [
    "plot_folder = \"SI Data Set 1\"\n",
    "\n",
    "#1ciii\n",
    "mt_tb_pc_r = mapping.ConnectionMap(mt2_r, tb_pc_r, \"AOTU_R\")\n",
    "mt_tb_pc_r.make_connectivity_plots(plot_name=\"MeTu2_R to TuBu_R\",\n",
    "                                   plot_folder=plot_folder,\n",
    "                                   fig_size=fig_size_mt_tb_pc)\n",
    "\n",
    "#1civ\n",
    "mt_tb_pc_l = mapping.ConnectionMap(mt2_l, tb_pc_l, \"AOTU_L\")\n",
    "mt_tb_pc_l.make_connectivity_plots(plot_name=\"MeTu2_L to TuBu_L\",\n",
    "                                   plot_folder=plot_folder,\n",
    "                                   fig_size=fig_size_mt_tb_pc)"
   ]
  },
  {
   "cell_type": "code",
   "execution_count": null,
   "metadata": {},
   "outputs": [],
   "source": [
    "plot_folder = \"SI Data Set 1\"\n",
    "\n",
    "#1cv\n",
    "mt_tb_a_r = mapping.ConnectionMap(mt3_r, tb_a_r, \"AOTU_R\")\n",
    "mt_tb_a_r.make_connectivity_plots(plot_name=\"MeTu3_R to TuBu_R\",\n",
    "                                  plot_folder=plot_folder,\n",
    "                                  fig_size=fig_size_mt_tb_a)\n",
    "\n",
    "#1cvi\n",
    "mt_tb_a_l = mapping.ConnectionMap(mt3_l, tb_a_l, \"AOTU_L\")\n",
    "mt_tb_a_l.make_connectivity_plots(plot_name=\"MeTu3_L to TuBu_L\",\n",
    "                                  plot_folder=plot_folder,\n",
    "                                  fig_size=fig_size_mt_tb_a)"
   ]
  },
  {
   "cell_type": "code",
   "execution_count": null,
   "metadata": {},
   "outputs": [],
   "source": [
    "plot_folder = \"SI Data Set 1\"\n",
    "\n",
    "#1cvii\n",
    "mt_tb_m_r = mapping.ConnectionMap(mt4_r, tb_m_r, \"AOTU_R\")\n",
    "mt_tb_m_r.make_connectivity_plots(plot_name=\"MeTu4_R to TuBu_R\",\n",
    "                                  plot_folder=plot_folder,\n",
    "                                  fig_size=fig_size_mt_tb_m)\n",
    "\n",
    "#1cviii\n",
    "mt_tb_m_l = mapping.ConnectionMap(mt4_l, tb_m_l, \"AOTU_L\")\n",
    "mt_tb_m_l.make_connectivity_plots(plot_name=\"MeTu4_L to TuBu_L\",\n",
    "                                  plot_folder=plot_folder,\n",
    "                                  fig_size=fig_size_mt_tb_m)"
   ]
  },
  {
   "cell_type": "markdown",
   "metadata": {},
   "source": [
    "#### TuBu to Ring Connections"
   ]
  },
  {
   "cell_type": "code",
   "execution_count": null,
   "metadata": {},
   "outputs": [],
   "source": [
    "plot_folder = \"SI Data Set 1\"\n",
    "\n",
    "#1di\n",
    "tb_er_pl_r = mapping.ConnectionMap(tb_pl_r, er_pl_r, \"BU_R\")\n",
    "tb_er_pl_r.make_connectivity_plots(plot_name=\"TuBu_PL_R to ER_PL_R\",\n",
    "                                   plot_folder=plot_folder,\n",
    "                                   fig_size=fig_size_tb_er_pl_r)\n",
    "\n",
    "#1dii\n",
    "fig_size_tb_er_pl_l = (1.15, 1.15)\n",
    "tb_er_pl_l = mapping.ConnectionMap(tb_pl_l, er_pl_l, \"BU_L\")\n",
    "tb_er_pl_l.make_connectivity_plots(plot_name=\"TuBu_PL_L to ER_PL_L\",\n",
    "                                   plot_folder=plot_folder,\n",
    "                                   fig_size=fig_size_tb_er_pl_l)"
   ]
  },
  {
   "cell_type": "code",
   "execution_count": null,
   "metadata": {},
   "outputs": [],
   "source": [
    "plot_folder = \"SI Data Set 1\"\n",
    "\n",
    "#1diii\n",
    "tb_er_pc_r = mapping.ConnectionMap(tb_pc_r, er_pc_r, \"BU_R\")\n",
    "tb_er_pc_r.make_connectivity_plots(plot_name=\"TuBu_PC_R to ER_PC_R\",\n",
    "                                   plot_folder=plot_folder,\n",
    "                                   fig_size=fig_size_tb_er_pc)\n",
    "\n",
    "#1div\n",
    "tb_er_pc_l = mapping.ConnectionMap(tb_pc_l, er_pc_l, \"BU_L\")\n",
    "tb_er_pc_l.make_connectivity_plots(plot_name=\"TuBu_PC_L to ER_PC_L\",\n",
    "                                   plot_folder=plot_folder,\n",
    "                                   fig_size=fig_size_tb_er_pc)"
   ]
  },
  {
   "cell_type": "code",
   "execution_count": null,
   "metadata": {},
   "outputs": [],
   "source": [
    "plot_folder = \"SI Data Set 1\"\n",
    "\n",
    "#1dv\n",
    "tb_er_a_r = mapping.ConnectionMap(tb_a_r, er_a_r, \"BU_R\")\n",
    "tb_er_a_r.make_connectivity_plots(plot_name=\"uBu_A_R to ER_A_R\",\n",
    "                                  plot_folder=plot_folder,\n",
    "                                  fig_size=fig_size_tb_er_a)\n",
    "\n",
    "#1dvi\n",
    "tb_er_a_l = mapping.ConnectionMap(tb_a_l, er_a_l, \"BU_L\")\n",
    "tb_er_a_l.make_connectivity_plots(plot_name=\"TuBu_A_L to ER_A_L\",\n",
    "                                  plot_folder=plot_folder,\n",
    "                                  fig_size=fig_size_tb_er_a)"
   ]
  },
  {
   "cell_type": "code",
   "execution_count": null,
   "metadata": {},
   "outputs": [],
   "source": [
    "plot_folder = \"SI Data Set 1\"\n",
    "\n",
    "#1dvii\n",
    "tb_er_m_r = mapping.ConnectionMap(tb_m_r, er_m_r, \"BU_R\")\n",
    "tb_er_m_r.make_connectivity_plots(plot_name=\"TuBu_M_R to ER_M_R\",\n",
    "                                  plot_folder=plot_folder,\n",
    "                                  fig_size=fig_size_tb_er_m)\n",
    "\n",
    "#1dviii\n",
    "tb_m_l.insert(1, \"TuBu_misc_L\")\n",
    "tb_er_m_l = mapping.ConnectionMap(tb_m_l, er_m_l, \"BU_L\")\n",
    "tb_er_m_l.make_connectivity_plots(plot_name=\"TuBu_M_L to ER_M_L\",\n",
    "                                  plot_folder=plot_folder,\n",
    "                                  fig_size=fig_size_tb_er_m)\n",
    "tb_m_l.remove(\"TuBu_misc_L\")"
   ]
  },
  {
   "cell_type": "markdown",
   "metadata": {},
   "source": [
    "#### EB and Bihemispheric Connections"
   ]
  },
  {
   "cell_type": "code",
   "execution_count": null,
   "metadata": {},
   "outputs": [],
   "source": [
    "plot_folder = \"SI Data Set 1\"\n",
    "\n",
    "#1e\n",
    "eb_inter = mapping.ConnectionMap(er_all_plus_lal+exr+eb_broad, \n",
    "                                 er_all_plus_lal+exr+eb_broad, \"EB\")\n",
    "eb_inter.make_type_plots(plot_name=\"EB Interconnectivity\",\n",
    "                         plot_folder=plot_folder, fig_size=(8, 8))\n",
    "\n",
    "#1fi\n",
    "bihem_aotu_r = mapping.ConnectionMap(aotu46+tutu+mt_r, aotu46+tutu+mt_r+tb_r, \"AOTU_R\")\n",
    "bihem_aotu_r.make_type_plots(\\\n",
    "            plot_name=\"Bihemispheric Connections (AOTU_R)\", plot_folder=plot_folder,\n",
    "            fig_size=bihem_size)\n",
    "\n",
    "#1fii\n",
    "bihem_aotu_l = mapping.ConnectionMap(aotu46+tutu+mt_l, aotu46+tutu+mt_l+tb_l, \"AOTU_L\")\n",
    "bihem_aotu_l.make_type_plots(\\\n",
    "            plot_name=\"Bihemispheric Connections (AOTU_L)\", plot_folder=plot_folder,\n",
    "            fig_size=bihem_size)\n",
    "\n",
    "#1gi\n",
    "bihem_bu_r = mapping.ConnectionMap(aotu46+tb_r, aotu46+tb_r+er_r, \"BU_R\")\n",
    "bihem_bu_r.make_type_plots(\\\n",
    "            plot_name=\"Bihemispheric Connections (BU_R)\", plot_folder=plot_folder,\n",
    "            fig_size=bihem_size)\n",
    "\n",
    "#1gii\n",
    "bihem_bu_l = mapping.ConnectionMap(aotu46+tb_l, aotu46+tb_l+er_l, \"BU_L\")\n",
    "bihem_bu_l.make_type_plots(\\\n",
    "            plot_name=\"Bihemispheric Connections (BU_L)\", plot_folder=plot_folder,\n",
    "            fig_size=bihem_size)"
   ]
  },
  {
   "cell_type": "markdown",
   "metadata": {},
   "source": [
    "## Supplementary Excel Files"
   ]
  },
  {
   "cell_type": "code",
   "execution_count": null,
   "metadata": {},
   "outputs": [],
   "source": [
    "#Codex Naming History Table\n",
    "label_df = proofreading.all_codex_names(all_in_paper)\n",
    "utils.write_excel(label_df, \"Codex Naming History\")"
   ]
  },
  {
   "cell_type": "code",
   "execution_count": null,
   "metadata": {},
   "outputs": [],
   "source": [
    "#Flywire Consortium Edit Record Table\n",
    "percent_df = proofreading.full_percent_spread(all_in_paper)\n",
    "utils.write_excel(percent_df, \"FlyWire Consortium Edit Record\")"
   ]
  }
 ],
 "metadata": {
  "kernelspec": {
   "display_name": ".venv",
   "language": "python",
   "name": "python3"
  },
  "language_info": {
   "codemirror_mode": {
    "name": "ipython",
    "version": 3
   },
   "file_extension": ".py",
   "mimetype": "text/x-python",
   "name": "python",
   "nbconvert_exporter": "python",
   "pygments_lexer": "ipython3",
   "version": "3.12.7"
  }
 },
 "nbformat": 4,
 "nbformat_minor": 2
}

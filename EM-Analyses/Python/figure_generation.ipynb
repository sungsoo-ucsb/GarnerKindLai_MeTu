{
 "cells": [
  {
   "cell_type": "markdown",
   "metadata": {},
   "source": [
    "# Python Figure Generation"
   ]
  },
  {
   "cell_type": "markdown",
   "metadata": {},
   "source": [
    "### Importing modules and setting relevant variables"
   ]
  },
  {
   "cell_type": "code",
   "execution_count": null,
   "metadata": {},
   "outputs": [],
   "source": [
    "import os\n",
    "import time\n",
    "import math\n",
    "import collections\n",
    "import numpy as np\n",
    "import pandas as pd\n",
    "import matplotlib.pyplot as plt\n",
    "import seaborn as sns\n",
    "from fafbseg import flywire\n",
    "import flycode.utils as utils\n",
    "import flycode.readfiles as readfiles\n",
    "import flycode.mapping as mapping\n",
    "import flycode.neuprint_reading as neuread\n",
    "import flycode.reduction as reduction\n",
    "import flycode.specific as specific\n",
    "import flycode.maintenance as maintenance\n",
    "import flycode.meshes as meshes\n",
    "import flycode.proofreading as proofreading\n",
    "import flycode.synapse_density as density\n",
    "import flycode.metu_comparison as comparison\n",
    "import flycode.annotations as annotations\n",
    "import flycode.volumes as volumes\n",
    "import flycode.flywire_functions as fw\n",
    "import flycode.figures as figures\n",
    "import flycode.path_weights as path_weights\n",
    "\n",
    "\n",
    "line_width = 0.2#0.0645\n",
    "plt.rcParams[\"font.family\"] = [\"Arial\", \"sans-serif\"]\n",
    "plt.rcParams[\"axes.linewidth\"] = line_width\n",
    "plt.rcParams[\"axes.edgecolor\"] = \"black\"\n",
    "plt.rcParams[\"xtick.major.width\"] = line_width\n",
    "plt.rcParams[\"xtick.minor.width\"] = line_width\n",
    "plt.rcParams[\"ytick.major.width\"] = line_width\n",
    "plt.rcParams[\"ytick.minor.width\"] = line_width\n",
    "\n",
    "\n",
    "#Easy reference type lists.\n",
    "all_mt_types = [\"1\",\"2a\",\"2b\",\"3a\",\"3b\",\"3c\",\"4a\",\"4b\",\"4c\",\"4d\"]\n",
    "mt1_l = [\"MeTu1_L\"]\n",
    "mt1_r = [\"MeTu1_R\"]\n",
    "mt2_l = [f\"MeTu2{x}_L\" for x in \"ab\"]\n",
    "mt2_r = [f\"MeTu2{x}_R\" for x in \"ab\"]\n",
    "mt3_l = [f\"MeTu3{x}_L\" for x in \"abc\"]\n",
    "mt3_r = [f\"MeTu3{x}_R\" for x in \"abc\"]\n",
    "mt4_l = [f\"MeTu4{x}_L\" for x in \"abcd\"]\n",
    "mt4_r = [f\"MeTu4{x}_R\" for x in \"abcd\"]\n",
    "mt_l = mt1_l + mt2_l + mt3_l + mt4_l\n",
    "mt_r = mt1_r + mt2_r + mt3_r + mt4_r\n",
    "all_mt_l = mt_l\n",
    "all_mt_r = mt_r + [\"MeTu_incomplete_R\"]\n",
    "all_mt = mt_l + mt_r\n",
    "mt_l_general = [f\"MeTu{x}_L\" for x in \"1234\"]\n",
    "mt_r_general = [f\"MeTu{x}_R\" for x in \"1234\"]\n",
    "tb_pl_l = [\"TuBu08_L\"]\n",
    "tb_pl_r = [\"TuBu08_R\"]\n",
    "pc_tb_types = \"16\"\n",
    "tb_pc_l = [f\"TuBu0{x}_L\" for x in pc_tb_types]\n",
    "tb_pc_r = [f\"TuBu0{x}_R\" for x in pc_tb_types]\n",
    "a_tb_types = [\"07\",\"09\",\"10\"]\n",
    "tb_a_l = [f\"TuBu{x}_L\" for x in a_tb_types]\n",
    "tb_a_r = [f\"TuBu{x}_R\" for x in a_tb_types]\n",
    "m_tb_types = \"2345\"\n",
    "tb_m_l = [f\"TuBu0{x}_L\" for x in m_tb_types]\n",
    "tb_m_r = [f\"TuBu0{x}_R\" for x in m_tb_types]\n",
    "all_tb_types = [f\"0{x!s}\" if x<10 else str(x) for x in range(1,11)]\n",
    "tb_l = [f\"TuBu{x}_L\" for x in all_tb_types]\n",
    "tb_r = [f\"TuBu{x}_R\" for x in all_tb_types]\n",
    "er_pl_l = [\"ER4d_L\"]\n",
    "er_pl_r = [\"ER4d_R\"]\n",
    "pc_ring_types = [\"4m\",\"5\"]\n",
    "er_pc_l = [f\"ER{x}_L\" for x in pc_ring_types]\n",
    "er_pc_r = [f\"ER{x}_R\" for x in pc_ring_types]\n",
    "a_ring_types = [\"3w_ab\",\"2_ad\",\"2_b\",\"2_c\"]\n",
    "er_a_l = [f\"ER{x}_L\" for x in a_ring_types] \n",
    "er_a_r = [f\"ER{x}_R\" for x in a_ring_types]\n",
    "er_a = [f\"ER{x}_{y}\" for x in a_ring_types for y in \"LR\"]\n",
    "m_ring_types = [\"3a_ad\",\"3m\",\"3d_a\",\"3d_b\",\"3d_c\",\"3d_d\",\"3p_ab\"]\n",
    "er_m_l = [f\"ER{x}_L\" for x in m_ring_types]\n",
    "er_m_r = [f\"ER{x}_R\" for x in m_ring_types]\n",
    "all_ring_types = [\"2_ad\",\"2_b\",\"2_c\",\n",
    "                  \"3a_ad\",\"3d_a\",\"3d_b\",\"3d_c\",\"3d_d\",\"3m\",\"3p_ab\",\"3w_ab\",\n",
    "                  \"4d\",\"4m\",\n",
    "                  \"5\"]\n",
    "er_l = [f\"ER{x}_L\" for x in all_ring_types]\n",
    "er_r = [f\"ER{x}_R\" for x in all_ring_types]\n",
    "er_all = [f\"ER{x}_{y}\" for x in all_ring_types for y in \"LR\"]\n",
    "retino_ring_order = [\"4d\"]+pc_ring_types+a_ring_types+m_ring_types\n",
    "er_l_retino = [f\"ER{x}_L\" for x in retino_ring_order]\n",
    "er_r_retino = [f\"ER{x}_R\" for x in retino_ring_order]\n",
    "\n",
    "aotu46 = aotu046 = [f\"AOTU046_{x}\" for x in \"LR\"]\n",
    "aotu46_indvid = [f\"AOTU046_{x}_{y}\" for x in \"LR\" for y in \"12\"]\n",
    "tutu = [f\"TuTuB_{x}_{y}\" for x in \"ab\" for y in \"LR\"]\n",
    "avp_all = all_mt_l+all_mt_r+tb_l+[\"TuBu_misc_L\"]+tb_r+er_l+er_r+aotu46+tutu\n",
    "\n",
    "\n",
    "#Easy Access Comparison Types\n",
    "gen_metu = [f\"MeTu{x}\" for x in [\"1\",\"2a\",\"2b\",\"3ab\",\"3c\",\"4a\",\"4b\",\"4c\",\"4d\",\n",
    "                                 \"4e\",\"4f\"]]\n",
    "gen_tubu = [f\"TuBu{x}\" for x in all_tb_types]\n",
    "gen_ring = [f\"ER{x}\" for x in all_ring_types]\n",
    "gen_bihem = [\"AOTU046\", \"TuTuB_a\", \"TuTuB_b\"]\n",
    "\n",
    "\n",
    "upstream_neurons = ['Dm2_R','DmDRA1_R','Mi15_R','R7_R','R7DRA_R','TmY31_R',\n",
    "                    'cM01c_R','cM02b_R','cM08a_R','cM12_L','cM13_L','MTe01a_R'] +\\\n",
    "                   [f'{x}_{y}' for y in \"LR\" for x in ['MeMeDRA','aMe19b',\n",
    "                                                       'MeMe_e01','MeMe_e02',\n",
    "                                                       'MeMe_e10',]] \n",
    "    \n",
    "\n",
    "upstream_with_mi1 = upstream_neurons[:13] + [\"Mi1_L\", \"Mi1_R\"] + \\\n",
    "            upstream_neurons[13:]\n",
    "\n",
    "\n",
    "epg = [f\"EPG_R{x!s}\" for x in range(8,0,-1)]+\\\n",
    "      [f\"EPG_L{x!s}\" for x in range(1,9)]\n",
    "epg_retino = [f\"EPG_{x}{y}\" for x,y in zip(\"LR\"*8, \n",
    "        np.array([[a,b] for a,b in zip(range(1,9),range(8,0,-1))]).flatten())]\n",
    "er_all_plus_lal = [\"ER1_L\", \"ER1_R\"] + er_all[:8] + [\"ER3a_bc_L\", \"ER3a_bc_R\"] +\\\n",
    "            er_all[8:] + [\"ER6_L\", \"ER6_R\"]\n",
    "er_all_all = er_all_plus_lal[:12] + [\"ER3_misc_R\"] + er_all_plus_lal[12:]\n",
    "\n",
    "exr = [f\"ExR{x!s}_{y}\" for x in range(1,9) for y in \"LR\"]\n",
    "\n",
    "all_path_neurs = er_all_all + exr + [f\"{x}_{y}\" for x in [\"FB8B\", \"OA-AL2i1\", \n",
    "                                                          \"IbSpsP\", \"LNO2\"] for y in \"LR\"]\n",
    "\n",
    "epg = [f\"EPG_R{x!s}\" for x in range(8,0,-1)]+\\\n",
    "      [f\"EPG_L{x!s}\" for x in range(1,9)]\n",
    "epg_retino = [f\"EPG_{x}{y}\" for x,y in zip(\"LR\"*8, \n",
    "        np.array([[a,b] for a,b in zip(range(1,9),range(8,0,-1))]).flatten())]\n",
    "\n",
    "pen1 = [f\"PEN1_R{x!s}\" for x in range(9,1,-1)]+\\\n",
    "       [f\"PEN1_L{x!s}\" for x in range(2,10)]\n",
    "pen2 = [f\"PEN2_R{x!s}\" for x in range(9,1,-1)]+\\\n",
    "       [f\"PEN2_L{x!s}\" for x in range(2,10)]\n",
    "peg = [f\"PEG_R{x!s}\" for x in range(9,0,-1)]+\\\n",
    "      [f\"PEG_L{x!s}\" for x in range(1,10)]\n",
    "el = [f\"EL_{x}\" for x in \"LR\"]\n",
    "epgt = [f\"EPGt_{x}\" for x in \"LR\"]\n",
    "\n",
    "eb = epg + pen1 + pen2 + peg + el + epgt\n",
    "eb_broad = [f\"{x}_{y}\" for x in [\"EPG\",\"PEN1\",\"PEN2\",\"PEG\",\"EL\",\"EPGt\"] \n",
    "                       for y in \"LR\"]\n",
    "\n",
    "all_in_paper = [f\"MeTu{x}_{y}\" for x in all_mt_types for y in \"LR\"] +\\\n",
    "               [\"MeTu_incomplete_R\"] +\\\n",
    "               [f\"TuBu{x}_{y}\" for x in all_tb_types for y in \"LR\"] +\\\n",
    "               [\"TuBu_misc_L\"] +\\\n",
    "               er_all_all +\\\n",
    "               tutu +\\\n",
    "               aotu46 +\\\n",
    "               upstream_with_mi1 +\\\n",
    "               exr +\\\n",
    "               eb\n",
    "        \n",
    "mt1_r_outlier_coords = np.array([[202927, 71601, 4917]])\n",
    "mt2_r_outlier_coords = np.array([[170645, 42981, 1977]])\n",
    "mt4_r_outlier_coords = np.array([[202103, 56303, 5479], \n",
    "                                    [203472, 61664, 5513],\n",
    "                                    [201806, 62921, 4839],])\n",
    "\n",
    "#ring_outlier_coords = np.array([[118158, 44346, 2494]])\n",
    "fig_size_mt_tb = (1.5, 1.5)\n",
    "bihem_size = (3, 3)\n",
    "fig_size_mt1 = (1.3, 1.3)\n",
    "fig_size_mt_tb_pl = (3.6, 3.6)\n",
    "fig_size_tb_er_pl_r = (1.3, 1.3)\n",
    "fig_size_mt2 = (1.1, 1.1)\n",
    "fig_size_mt_tb_pc = (3.5, 3.5)\n",
    "fig_size_tb_er_pc = (1.3, 1.3)\n",
    "fig_size_mt3 = (1.1, 1.1)\n",
    "fig_size_mt_tb_a = (3.5, 3.5)\n",
    "fig_size_tb_er_a = (1.3, 1.3)\n",
    "fig_size_mt4 = (1.1, 1.1)\n",
    "fig_size_mt_tb_m = (3.45, 3.45)\n",
    "fig_size_tb_er_m = (2.2, 2.2)\n",
    "\n",
    "regions = {\"AME_L\": 1, \"LO_L\": 2, \"NO\": 3, \"BU_L\": 4, \"PB\": 5, \"LH_L\": 6,\n",
    "           \"LAL_L\": 7, \"SAD\": 8, \"CAN_L\": 9, \"AMMC_L\": 10, \"ICL_L\": 11,\n",
    "           \"VES_L\": 12, \"IB_L\": 13, \"ATL_L\": 14, \"CRE_L\": 15, \"MB_PED_L\": 16,\n",
    "           \"MB_VL_L\": 17, \"MB_ML_L\": 18, \"FLA_L\": 19, \"LOP_L\": 20, \"EB\": 21,\n",
    "           \"AL_L\": 22, \"ME_L\": 23, \"FB\": 24, \"SLP_L\": 25, \"SIP_L\": 26,\n",
    "           \"SMP_L\": 27, \"AVLP_L\": 28, \"PVLP_L\": 29, \"WED_L\": 30, \"PLP_L\": 31,\n",
    "           \"AOTU_L\": 32, \"GOR_L\": 33, \"MB_CA_L\": 34, \"SPS_L\": 35, \"IPS_L\": 36,\n",
    "           \"SCL_L\": 37, \"EPA_L\": 38, \"GNG\": 39, \"PRW\": 40, \"GA_L\": 41,\n",
    "           \"AME_R\": 42, \"LO_R\": 43, \"BU_R\": 44, \"LH_R\": 45, \"LAL_R\": 46,\n",
    "           \"CAN_R\": 47, \"AMMC_R\": 48, \"ICL_R\": 49, \"VES_R\": 50, \"IB_R\": 51,\n",
    "           \"ATL_R\": 52, \"CRE_R\": 53, \"MB_PED_R\": 54, \"MB_VL_R\": 55, \n",
    "           \"MB_ML_R\": 56, \"FLA_R\": 57, \"LOP_R\": 58, \"AL_R\": 59, \"ME_R\": 60,\n",
    "           \"SLP_R\": 61, \"SIP_R\": 62, \"SMP_R\": 63, \"AVLP_R\": 64, \"PVLP_R\": 65,\n",
    "           \"WED_R\": 66, \"PLP_R\": 67, \"AOTU_R\": 68, \"GOR_R\": 69, \"MB_CA_R\": 70,\n",
    "           \"SPS_R\": 71, \"IPS_R\": 72, \"SCL_R\": 73, \"EPA_R\": 74, \"GA_R\": 75}\n",
    "for i in regions.copy():\n",
    "    regions[regions[i]] = i\n",
    "\n",
    "#Sets up required subdirectories\n",
    "plot_folder = \"\"\n",
    "directory = os.getcwd()\n",
    "directory = os.path.join(directory, \"flycode\")\n",
    "for i in [\"Excel-Plots\", \"Generated-Figures\", \"Importable-Coords\",\n",
    "          \"Meshes\", \"Readable\"]:\n",
    "    subfolders = [x.path for x in os.scandir(directory) if x.is_dir()]\n",
    "    temp_directory = os.path.join(directory, i)\n",
    "    if not temp_directory in subfolders:\n",
    "        os.mkdir(temp_directory)\n",
    "\n",
    "\n"
   ]
  },
  {
   "cell_type": "markdown",
   "metadata": {},
   "source": [
    "## Figure 1"
   ]
  },
  {
   "cell_type": "code",
   "execution_count": null,
   "metadata": {},
   "outputs": [],
   "source": [
    "plot_folder = \"Fig 1\"\n",
    "\n",
    "#Fig. 1c\n",
    "full_region = density.plot_type_density(\\\n",
    "        mt_r+tb_r, plot_name=\"Full Region\", plot_folder=plot_folder)\n",
    "for i in mt_r+tb_r:\n",
    "    if i in mt1_r+tb_pl_r:\n",
    "        color = \"RegionSolidRed\"\n",
    "    elif i in mt2_r+tb_pc_r:\n",
    "        color = \"RegionSolidBlue\"\n",
    "    elif i in mt3_r+tb_a_r:\n",
    "        color = \"RegionSolidGreen\"\n",
    "    else:\n",
    "        color = \"RegionSolidYellow\"\n",
    "    density.plot_type_density([i], color=color, plot_name=i, \n",
    "                                plot_folder=plot_folder)\n",
    "\n"
   ]
  },
  {
   "cell_type": "code",
   "execution_count": null,
   "metadata": {},
   "outputs": [],
   "source": [
    "plot_folder = \"Fig 1\"\n",
    "\n",
    "#Fig. 1d\n",
    "mt_tb_r = mapping.ConnectionMap(mt_r_general, tb_r, \"AOTU_R\")\n",
    "mt_tb_r.make_type_plots(plot_name = \"MeTu_R to TuBu_R\", \n",
    "                        plot_folder=plot_folder, fig_size=fig_size_mt_tb)\n",
    "\n",
    "mt_tb_r = mapping.ConnectionMap(mt_r, tb_r, \"AOTU_R\") #Specific\n",
    "mt_tb_r.make_type_plots(plot_name=\"Subtyped MeTu_R to TuBu_R\",\n",
    "                        plot_folder=plot_folder)\n"
   ]
  },
  {
   "cell_type": "markdown",
   "metadata": {},
   "source": [
    "## Figure EDF1"
   ]
  },
  {
   "cell_type": "code",
   "execution_count": null,
   "metadata": {},
   "outputs": [],
   "source": [
    "plot_folder = \"Fig EDF1\"\n",
    "\n",
    "#Fig. EDF1biii and EDF1biv\n",
    "f1_scores = volumes.compare_f1_scores()\n",
    "volumes.plot_f1(f1_scores, plot_folder=plot_folder)\n",
    "volumes.get_all_t_tests(f1_scores) #Gets t-test p-scores."
   ]
  },
  {
   "cell_type": "markdown",
   "metadata": {},
   "source": [
    "## Figure EDF2"
   ]
  },
  {
   "cell_type": "code",
   "execution_count": null,
   "metadata": {},
   "outputs": [],
   "source": [
    "plot_folder = \"Fig EDF2\"\n",
    "\n",
    "#Fig. EDF2a\n",
    "path_weights.make_weight_strip_plot(\"CX Neuron Weight Strip Plot\", plot_folder=plot_folder)\n",
    "\n",
    "#Fig. EDF2bi\n",
    "exr1_path = path_weights.get_renderable_neurs(\"ExR1\")\n",
    "\n",
    "#Fig. EDF2bii\n",
    "fb8b_path = path_weights.get_renderable_neurs(\"FB8B\")\n",
    "\n",
    "#Fig. EDF2biii\n",
    "oaal_path = path_weights.get_renderable_neurs(\"OA-AL2i1\")\n",
    "\n",
    "#Fib. EDF2biv\n",
    "exr5_path = path_weights.get_renderable_neurs(\"ExR5\")"
   ]
  },
  {
   "cell_type": "markdown",
   "metadata": {},
   "source": [
    "## Figure EDF3"
   ]
  },
  {
   "cell_type": "code",
   "execution_count": null,
   "metadata": {},
   "outputs": [],
   "source": [
    "plot_folder = \"Fig EDF3\"\n",
    "\n",
    "#Fig. EDF3a\n",
    "density_plot = density.plot_region_density(density.AotuRegion.POSTERIOR_LATERAL, \n",
    "                                           plot_folder=plot_folder, \n",
    "                                           blur=10)\n",
    "\n",
    "#Fig. EDF3b\n",
    "density_plot = density.plot_region_density(density.AotuRegion.POSTERIOR_CENTRAL, \n",
    "                                           plot_folder=plot_folder, \n",
    "                                           blur=10)\n",
    "\n",
    "#Fig. EDF3c\n",
    "density_plot = density.plot_region_density(density.AotuRegion.ANTERIOR, \n",
    "                                           plot_folder=plot_folder, \n",
    "                                           blur=10)\n",
    "\n",
    "#Fig. EDF3d\n",
    "density_plot = density.plot_region_density(density.AotuRegion.MEDIAL, \n",
    "                                           plot_folder=plot_folder, \n",
    "                                           blur=10)"
   ]
  },
  {
   "cell_type": "markdown",
   "metadata": {},
   "source": [
    "## Figure EDF4"
   ]
  },
  {
   "cell_type": "code",
   "execution_count": null,
   "metadata": {},
   "outputs": [],
   "source": [
    "plot_folder = \"Fig EDF4\"\n",
    "\n",
    "#Fig. EDF4a\n",
    "line_widths = specific.get_bihem_weight_line_width()\n",
    "for i in line_widths:\n",
    "    print(i, line_widths[i])"
   ]
  },
  {
   "cell_type": "code",
   "execution_count": null,
   "metadata": {},
   "outputs": [],
   "source": [
    "plot_folder = \"Fig EDF4\"\n",
    "\n",
    "#Fig. EDF4b, EDF4di-ii\n",
    "specific.make_bihem_pie_charts(plot_folder=plot_folder)"
   ]
  },
  {
   "cell_type": "code",
   "execution_count": null,
   "metadata": {},
   "outputs": [],
   "source": [
    "plot_folder = \"Fig EDF4\"\n",
    "\n",
    "#Fig. EDF4c\n",
    "comparison.nt_by_types([\"AOTU046_L_1\", \"AOTU046_L_2\", \"AOTU046_R_1\", \"AOTU046_R_2\"],\n",
    "        palette=[\"#e6194B\", \"#EBC400\", \"#3E7748\", \"#4400dd\"],\n",
    "        plot_names=[\"AOTU046 NT Predictions\"], plot_folder=plot_folder,\n",
    "        fig_size=(1, 0.75))\n",
    "\n",
    "#Fig. EDF4ei\n",
    "comparison.nt_by_types([\"TuTuB_a_L\", \"TuTuB_a_R\"], \n",
    "                       plot_names=[\"TuTuB_a NT Predictions\"], \n",
    "                       plot_folder=plot_folder,\n",
    "                       palette=[\"#e6194B\", \"#3E7748\"])\n",
    "\n",
    "#Fig. EDF4eii\n",
    "comparison.nt_by_types([\"TuTuB_b_L\", \"TuTuB_b_R\"],\n",
    "                       plot_names=[\"TuTuB_b NT Predictions\"], \n",
    "                       plot_folder=plot_folder,\n",
    "                       palette=[\"#e6194B\", \"#3E7748\"])"
   ]
  },
  {
   "cell_type": "code",
   "execution_count": null,
   "metadata": {},
   "outputs": [],
   "source": [
    "plot_folder = \"Fig EDF4\"\n",
    "\n",
    "#Fig. EDF4f\n",
    "specific.tutu_comparison(plot_name=\"TuTu Synapse Counts Comparison\", \n",
    "                         plot_folder=plot_folder)"
   ]
  },
  {
   "cell_type": "markdown",
   "metadata": {},
   "source": [
    "## Figure EDF7"
   ]
  },
  {
   "cell_type": "code",
   "execution_count": null,
   "metadata": {},
   "outputs": [],
   "source": [
    "plot_folder = \"Fig EDF7\"\n",
    "\n",
    "#Fig. EDF7a\n",
    "specific.sm17_map_by_dv_axis(plot_name= \n",
    "        \"MeTu3bc Vertical Positioning by Connections to Sm17\",\n",
    "        plot_folder=plot_folder)\n",
    "\n",
    "#Fig. EDF7b\n",
    "specific.mt3_pre_connections([\"Sm23\", \"MeMeDRA\", \"Mi15\"], \n",
    "                             plot_name=\"MeTu3 Presynaptic\", plot_folder=plot_folder)"
   ]
  },
  {
   "cell_type": "markdown",
   "metadata": {},
   "source": [
    "## Figure EDF9"
   ]
  },
  {
   "cell_type": "code",
   "execution_count": null,
   "metadata": {},
   "outputs": [],
   "source": [
    "plot_folder = \"Fig EDF9\"\n",
    "\n",
    "#Fig. EDF9a\n",
    "neuread.plot_comparison(gen_metu,\n",
    "        datasets={\"FAFB\": \"LR\", \"Hemibrain\": \"R\", \"FIB-SEM\": \"R\"},\n",
    "        plot_name=\"MeTu Neuron Counts Comparison\", \n",
    "        plot_folder=plot_folder,\n",
    "        y_ticks=np.arange(0, 140, 20))\n",
    "\n",
    "#Fig. EDF9b\n",
    "neuread.plot_comparison(gen_tubu, \n",
    "        plot_name=\"TuBu Neuron Counts Comparison\", \n",
    "        plot_folder=plot_folder,\n",
    "        y_ticks=np.arange(0, 14, 2))\n",
    "\n",
    "#Fig. EDF9c\n",
    "neuread.plot_comparison(gen_ring,\n",
    "        datasets={\"FAFB\": \"LR\", \"Hemibrain\": \"LR\"},\n",
    "        plot_name=\"Ring Neuron Counts Comparison\", \n",
    "        plot_folder=plot_folder,\n",
    "        y_ticks=np.arange(0, 14, 2), fig_size = (2.4, 1.25))\n",
    "\n",
    "#Fig. EDF9d\n",
    "neuread.plot_comparison(gen_bihem, \n",
    "        datasets={\"FAFB\": \"LR\", \"Hemibrain\": \"LR\"},\n",
    "        plot_name=\"Bihemispheric Neuron Counts Comparison\", \n",
    "        plot_folder=plot_folder,\n",
    "        y_ticks=np.arange(0, 3, 1))"
   ]
  },
  {
   "cell_type": "code",
   "execution_count": null,
   "metadata": {},
   "outputs": [],
   "source": [
    "plot_folder = \"Fig EDF9\"\n",
    "\n",
    "#Fig. EDF9e\n",
    "neuread.ratio_plot(neuread.Ratio.METU_TO_TUBU, plot_name=\\\n",
    "    \"Ratio of MeTu Neurons to TuBu Neurons per Hemisphere\",\n",
    "    plot_folder=plot_folder,\n",
    "    y_ticks=np.arange(0, 18, 3))\n",
    "\n",
    "#Fig. EDF9f\n",
    "neuread.ratio_plot(neuread.Ratio.TUBU_TO_RING, plot_name=\\\n",
    "    \"Ratio of TuBu Neurons to Ring Neurons per Hemisphere\",\n",
    "    plot_folder=plot_folder,\n",
    "    y_ticks=np.arange(0,5,1))"
   ]
  },
  {
   "cell_type": "code",
   "execution_count": null,
   "metadata": {},
   "outputs": [],
   "source": [
    "plot_folder = \"Fig EDF9\"\n",
    "\n",
    "#Fig. EDF9g\n",
    "neuread.lobula_counts(just_metu4=True,\n",
    "        plot_name=\"Lobula Synapse Count in Hemibrain MeTu4\",\n",
    "        plot_folder=plot_folder,)\n",
    "\n",
    "#Fig. EDF9h\n",
    "specific.full_comparison([f\"MeTu4{x}\" for x in \"abcd\"], \"LO\", \n",
    "        plot_name=\"Lobula Synapse Count per MeTu4 Neuron\", \n",
    "        plot_folder=plot_folder,\n",
    "        y_axis=\"Lobula Synapse Count\")"
   ]
  },
  {
   "cell_type": "code",
   "execution_count": null,
   "metadata": {},
   "outputs": [],
   "source": [
    "plot_folder = \"Fig EDF9\"\n",
    "\n",
    "#Fig. EDF9i_i-ii\n",
    "comparison.mt4e_partner_comparison(\"Partner Type Comparison\", \n",
    "                                   plot_folder=plot_folder,\n",
    "                                   save_figure=True)\n",
    "\n",
    "#Fig. EDF9i_iii-viii\n",
    "comparison.mt4e_dendrite_comparison(\"Comparing\",\n",
    "                                  plot_folder=plot_folder,\n",
    "                                  save_figure=True)"
   ]
  },
  {
   "cell_type": "markdown",
   "metadata": {},
   "source": [
    "## Figure EDF10"
   ]
  },
  {
   "cell_type": "code",
   "execution_count": null,
   "metadata": {},
   "outputs": [],
   "source": [
    "plot_folder = \"Fig EDF10\"\n",
    "\n",
    "#Fig. EDF10ai-vi\n",
    "for i in [\"Medulla Presynapse Count\", \"Medulla Postsynapse Count\",\n",
    "          \"Column Count\", \"AOTU Presynapse Count\",\n",
    "          \"AOTU Postsynapse Count\", \"Ellipse Ratio\"]:\n",
    "    comparison.compare_metu(i, plot_folder=plot_folder)"
   ]
  },
  {
   "cell_type": "code",
   "execution_count": null,
   "metadata": {},
   "outputs": [],
   "source": [
    "plot_folder = \"Fig EDF10\"\n",
    "\n",
    "#Fig. EDF10bi-viii\n",
    "for i in [\"Medulla Postsynapse Count\", \"AOTU Postsynapse Count\",\n",
    "          \"Medulla Presynapse Count\", \"AOTU Presynapse Count\",\n",
    "          \"Column Count\", \"Ellipse Ratio\", \"Ellipse Major Axis Length (nm)\",\n",
    "          \"Ellipse Minor Axis Length (nm)\"]:\n",
    "    for j in [\"A-P\", \"V-D\"]:\n",
    "        comparison.scatter_plots(x=f\"Relative Offset from Medulla Centroid ({j})\",\n",
    "                                 y=i, plot_name=f\"{i} {j}\", plot_folder=plot_folder)"
   ]
  },
  {
   "cell_type": "markdown",
   "metadata": {},
   "source": [
    "## Figure EDF11"
   ]
  },
  {
   "cell_type": "code",
   "execution_count": null,
   "metadata": {},
   "outputs": [],
   "source": [
    "plot_folder = \"Fig EDF11\"\n",
    "width_conversion = lambda x : 200.59*x - 0.0621\n",
    "\n",
    "#Fig. EDF11bi\n",
    "mapping.add_broad_type(\"TuBu_R\", tb_r)\n",
    "mapping.add_broad_type(\"TuTuB_a\", [f\"TuTuB_a_{x}\" for x in \"LR\"])\n",
    "mapping.add_broad_type(\"TuTuB_b\", [f\"TuTuB_b_{x}\" for x in \"LR\"])\n",
    "mapping.add_broad_type(\"AOTU046\", [f\"AOTU046_{x}\" for x in \"LR\"])\n",
    "all_tubu_weights = mapping.get_total_weight(mt_r+[\"AOTU046\", \"TuTuB_a\", \"TuTuB_b\"],\n",
    "        [\"TuBu_R\"], \n",
    "        region=\"AOTU_R\",\n",
    "        rounded=1,\n",
    "        width_conversion=width_conversion)\n",
    "for i in all_tubu_weights:\n",
    "    print(i, all_tubu_weights[i])\n",
    "\n",
    "#Fig. EDF11bii\n",
    "mapping.add_broad_type(\"ER_R\", er_r)\n",
    "mapping.add_broad_type(\"AOTU046\", [f\"AOTU046_{x}\" for x in \"LR\"])\n",
    "all_ring_weights = mapping.get_total_weight(tb_r+[\"AOTU046\"], \n",
    "        [\"ER_R\"], \n",
    "        region=\"BU_R\",\n",
    "        rounded=1,\n",
    "        width_conversion=width_conversion)\n",
    "for i in all_ring_weights:\n",
    "    print(i, all_ring_weights[i])"
   ]
  },
  {
   "cell_type": "code",
   "execution_count": null,
   "metadata": {},
   "outputs": [],
   "source": [
    "plot_folder = \"Fig EDF11\"\n",
    "\n",
    "#Fig. EDF11c\n",
    "ring_to_epg = mapping.ConnectionMap(er_all, epg, \"EB\")\n",
    "ring_to_epg.make_type_plots(\"Ring to EPG\", plot_folder=plot_folder, fig_size=(3.0, 4.0))"
   ]
  },
  {
   "cell_type": "markdown",
   "metadata": {},
   "source": [
    "## Figure EDF12"
   ]
  },
  {
   "cell_type": "code",
   "execution_count": null,
   "metadata": {},
   "outputs": [],
   "source": [
    "plot_folder = \"Fig EDF12\"\n",
    "\n",
    "#Fig. EDF12a-j\n",
    "metu_nts = comparison.nt_by_types(\\\n",
    "        [f\"{x}_R\" for x in comparison.colors], \n",
    "        palette=list(comparison.colors.values()), \n",
    "        plot_names=[f\"{x} Neurotransmitter Prediction\" for x in comparison.colors.keys()],\n",
    "        plot_folder=plot_folder,\n",
    "        save_figure=True,\n",
    "        fig_size=(1,0.75), \n",
    "        separate_plots=True)"
   ]
  },
  {
   "cell_type": "markdown",
   "metadata": {},
   "source": [
    "## SI Data Set 1"
   ]
  },
  {
   "cell_type": "markdown",
   "metadata": {},
   "source": [
    "#### MeTu Interconnectivity (Medulla)"
   ]
  },
  {
   "cell_type": "code",
   "execution_count": null,
   "metadata": {},
   "outputs": [],
   "source": [
    "plot_folder = \"SI Data Set 1\"\n",
    "\n",
    "#1ai\n",
    "mt1_r_outliers = fw.locs_to_segments(mt1_r_outlier_coords)\n",
    "mt1_r_inter_me = mapping.ConnectionMap(mt1_r, mt1_r, \"ME_R\", exclude=mt1_r_outliers)\n",
    "mt1_r_inter_me.make_connectivity_plots(plot_name=\"MT1_R Interconnectivity (ME_R)\",\n",
    "                                       plot_folder=plot_folder,\n",
    "                                       fig_size=fig_size_mt1)\n",
    "\n",
    "#1aii\n",
    "mt1_l_inter_me = mapping.ConnectionMap(mt1_l, mt1_l, \"ME_L\")\n",
    "mt1_l_inter_me.make_connectivity_plots(plot_name=\"MT1_L Interconnectivity (ME_L)\",\n",
    "                                       plot_folder=plot_folder,\n",
    "                                       fig_size=fig_size_mt1)"
   ]
  },
  {
   "cell_type": "code",
   "execution_count": null,
   "metadata": {},
   "outputs": [],
   "source": [
    "plot_folder = \"SI Data Set 1\"\n",
    "\n",
    "#1aiii\n",
    "mt2_r_outliers = fw.locs_to_segments(mt2_r_outlier_coords)\n",
    "mt2_r_inter_me = mapping.ConnectionMap(mt2_r, mt2_r, \"ME_R\", exclude = mt2_r_outliers)\n",
    "mt2_r_inter_me.make_connectivity_plots(plot_name=\"MT2_R Interconnectivity (ME_R)\",\n",
    "                                       plot_folder=plot_folder,\n",
    "                                       fig_size=fig_size_mt2)\n",
    "\n",
    "#1aiv\n",
    "mt2_l_inter_me = mapping.ConnectionMap(mt2_l, mt2_l, \"ME_L\")\n",
    "mt2_l_inter_me.make_connectivity_plots(plot_name=\"MT2_L Interconnectivity (ME_L)\",\n",
    "                                       plot_folder=plot_folder,\n",
    "                                       fig_size=fig_size_mt2)"
   ]
  },
  {
   "cell_type": "code",
   "execution_count": null,
   "metadata": {},
   "outputs": [],
   "source": [
    "plot_folder = \"SI Data Set 1\"\n",
    "\n",
    "#1av\n",
    "mt3_r_inter_me = mapping.ConnectionMap(mt3_r, mt3_r, \"ME_R\")\n",
    "mt3_r_inter_me.make_connectivity_plots(plot_name=\"MT3_R Interconnectivity (ME_R)\",\n",
    "                                       plot_folder=plot_folder,\n",
    "                                       fig_size=fig_size_mt3)\n",
    "\n",
    "#1avi\n",
    "mt3_l_inter_me = mapping.ConnectionMap(mt3_l, mt3_l, \"ME_L\")\n",
    "mt3_l_inter_me.make_connectivity_plots(plot_name=\"MT3_L Interconnectivity (ME_L)\",\n",
    "                                       plot_folder=plot_folder,\n",
    "                                       fig_size=fig_size_mt3)"
   ]
  },
  {
   "cell_type": "code",
   "execution_count": null,
   "metadata": {},
   "outputs": [],
   "source": [
    "plot_folder = \"SI Data Set 1\"\n",
    "\n",
    "#1avii\n",
    "mt4_r_outliers = fw.locs_to_segments(mt4_r_outlier_coords)\n",
    "mt4_r_inter_me = mapping.ConnectionMap(mt4_r, mt4_r, \"ME_R\", exclude = mt4_r_outliers)\n",
    "mt4_r_inter_me.make_connectivity_plots(plot_name=\"MT4_R Interconnectivity (ME_R)\",\n",
    "                                       plot_folder=plot_folder,\n",
    "                                       fig_size=fig_size_mt4)\n",
    "\n",
    "#1aviii\n",
    "mt4_l_inter_me = mapping.ConnectionMap(mt4_l, mt4_l, \"ME_L\",)\n",
    "mt4_l_inter_me.make_connectivity_plots(plot_name=\"MT4_L Interconnectivity (ME_L)\",\n",
    "                                       plot_folder=plot_folder,\n",
    "                                       fig_size=fig_size_mt4)"
   ]
  },
  {
   "cell_type": "markdown",
   "metadata": {},
   "source": [
    "#### MeTu Interconnectivity (AOTU)"
   ]
  },
  {
   "cell_type": "code",
   "execution_count": null,
   "metadata": {},
   "outputs": [],
   "source": [
    "plot_folder = \"SI Data Set 1\"\n",
    "\n",
    "#1bi\n",
    "mt1_r_outliers = fw.locs_to_segments(mt1_r_outlier_coords)\n",
    "mt1_r_inter_aotu = mapping.ConnectionMap(mt1_r, mt1_r, \"AOTU_R\",)\n",
    "mt1_r_inter_aotu.make_connectivity_plots(plot_name=\"MT1_R Interconnectivity (AOTU_R)\",\n",
    "                                         plot_folder=plot_folder,\n",
    "                                         fig_size=fig_size_mt1)\n",
    "\n",
    "#1bii\n",
    "mt1_l_inter_aotu = mapping.ConnectionMap(mt1_l, mt1_l, \"AOTU_L\")\n",
    "mt1_l_inter_aotu.make_connectivity_plots(plot_name=\"MT1_L Interconnectivity (AOTU_L)\",\n",
    "                                         plot_folder=plot_folder,\n",
    "                                         fig_size=fig_size_mt1)"
   ]
  },
  {
   "cell_type": "code",
   "execution_count": null,
   "metadata": {},
   "outputs": [],
   "source": [
    "plot_folder = \"SI Data Set 1\"\n",
    "\n",
    "#1biii\n",
    "mt2_r_inter_aotu = mapping.ConnectionMap(mt2_r, mt2_r, \"AOTU_R\",)\n",
    "mt2_r_inter_aotu.make_connectivity_plots(plot_name=\"MT2_R Interconnectivity (AOTU_R)\",\n",
    "                                         plot_folder=plot_folder,\n",
    "                                         fig_size=fig_size_mt2)\n",
    "\n",
    "#1biv\n",
    "mt2_l_inter_aotu = mapping.ConnectionMap(mt2_l, mt2_l, \"AOTU_L\")\n",
    "mt2_l_inter_aotu.make_connectivity_plots(plot_name=\"MT2_L Interconnectivity (AOTU_L)\",\n",
    "                                         plot_folder=plot_folder,\n",
    "                                         fig_size=fig_size_mt2)"
   ]
  },
  {
   "cell_type": "code",
   "execution_count": null,
   "metadata": {},
   "outputs": [],
   "source": [
    "plot_folder = \"SI Data Set 1\"\n",
    "\n",
    "#1bv\n",
    "mt3_r_inter_aotu = mapping.ConnectionMap(mt3_r, mt3_r, \"AOTU_R\")\n",
    "mt3_r_inter_aotu.make_connectivity_plots(plot_name=\"MT3_R Interconnectivity (AOTU_R)\",\n",
    "                                         plot_folder=plot_folder,\n",
    "                                         fig_size=fig_size_mt3)\n",
    "\n",
    "#1bvi\n",
    "mt3_l_inter_aotu = mapping.ConnectionMap(mt3_l, mt3_l, \"AOTU_L\")\n",
    "mt3_l_inter_aotu.make_connectivity_plots(plot_name=\"MT3_L Interconnectivity (AOTU_L)\",\n",
    "                                         plot_folder=plot_folder,\n",
    "                                         fig_size=fig_size_mt3)"
   ]
  },
  {
   "cell_type": "code",
   "execution_count": null,
   "metadata": {},
   "outputs": [],
   "source": [
    "plot_folder = \"SI Data Set 1\"\n",
    "\n",
    "#1bvii\n",
    "mt4_r_inter_aotu = mapping.ConnectionMap(mt4_r, mt4_r, \"AOTU_R\",)\n",
    "mt4_r_inter_aotu.make_connectivity_plots(plot_name=\"MT4_R Interconnectivity (AOTU_R)\",\n",
    "                                         plot_folder=plot_folder,\n",
    "                                         fig_size=fig_size_mt4)\n",
    "\n",
    "#1bviii\n",
    "mt4_l_inter_aotu = mapping.ConnectionMap(mt4_l, mt4_l, \"AOTU_L\",)\n",
    "mt4_l_inter_aotu.make_connectivity_plots(plot_name=\"MT4_L Interconnectivity (AOTU_L)\",\n",
    "                                         plot_folder=plot_folder,\n",
    "                                         fig_size=fig_size_mt4)"
   ]
  },
  {
   "cell_type": "markdown",
   "metadata": {},
   "source": [
    "#### MeTu to TuBu Connections"
   ]
  },
  {
   "cell_type": "code",
   "execution_count": null,
   "metadata": {},
   "outputs": [],
   "source": [
    "plot_folder = \"SI Data Set 1\"\n",
    "\n",
    "#1ci\n",
    "mt_tb_pl_r = mapping.ConnectionMap(mt1_r, tb_pl_r, \"AOTU_R\")\n",
    "mt_tb_pl_r.make_connectivity_plots(plot_name=\"MeTu1_R to TuBu_R\",\n",
    "                                   plot_folder=plot_folder,\n",
    "                                   fig_size=fig_size_mt_tb_pl)\n",
    "\n",
    "#1cii\n",
    "mt_tb_pl_l = mapping.ConnectionMap(mt1_l, tb_pl_l, \"AOTU_L\")\n",
    "mt_tb_pl_l.make_connectivity_plots(plot_name=\"MeTu1_L to TuBu_L\",\n",
    "                                   plot_folder=plot_folder,\n",
    "                                   fig_size=fig_size_mt_tb_pl)"
   ]
  },
  {
   "cell_type": "code",
   "execution_count": null,
   "metadata": {},
   "outputs": [],
   "source": [
    "plot_folder = \"SI Data Set 1\"\n",
    "\n",
    "#1ciii\n",
    "mt_tb_pc_r = mapping.ConnectionMap(mt2_r, tb_pc_r, \"AOTU_R\")\n",
    "mt_tb_pc_r.make_connectivity_plots(plot_name=\"MeTu2_R to TuBu_R\",\n",
    "                                   plot_folder=plot_folder,\n",
    "                                   fig_size=fig_size_mt_tb_pc)\n",
    "\n",
    "#1civ\n",
    "mt_tb_pc_l = mapping.ConnectionMap(mt2_l, tb_pc_l, \"AOTU_L\")\n",
    "mt_tb_pc_l.make_connectivity_plots(plot_name=\"MeTu2_L to TuBu_L\",\n",
    "                                   plot_folder=plot_folder,\n",
    "                                   fig_size=fig_size_mt_tb_pc)"
   ]
  },
  {
   "cell_type": "code",
   "execution_count": null,
   "metadata": {},
   "outputs": [],
   "source": [
    "plot_folder = \"SI Data Set 1\"\n",
    "\n",
    "#1cv\n",
    "mt_tb_a_r = mapping.ConnectionMap(mt3_r, tb_a_r, \"AOTU_R\")\n",
    "mt_tb_a_r.make_connectivity_plots(plot_name=\"MeTu3_R to TuBu_R\",\n",
    "                                  plot_folder=plot_folder,\n",
    "                                  fig_size=fig_size_mt_tb_a)\n",
    "\n",
    "#1cvi\n",
    "mt_tb_a_l = mapping.ConnectionMap(mt3_l, tb_a_l, \"AOTU_L\")\n",
    "mt_tb_a_l.make_connectivity_plots(plot_name=\"MeTu3_L to TuBu_L\",\n",
    "                                  plot_folder=plot_folder,\n",
    "                                  fig_size=fig_size_mt_tb_a)"
   ]
  },
  {
   "cell_type": "code",
   "execution_count": null,
   "metadata": {},
   "outputs": [],
   "source": [
    "plot_folder = \"SI Data Set 1\"\n",
    "\n",
    "#1cvii\n",
    "mt_tb_m_r = mapping.ConnectionMap(mt4_r, tb_m_r, \"AOTU_R\")\n",
    "mt_tb_m_r.make_connectivity_plots(plot_name=\"MeTu4_R to TuBu_R\",\n",
    "                                  plot_folder=plot_folder,\n",
    "                                  fig_size=fig_size_mt_tb_m)\n",
    "\n",
    "#1cviii\n",
    "mt_tb_m_l = mapping.ConnectionMap(mt4_l, tb_m_l, \"AOTU_L\")\n",
    "mt_tb_m_l.make_connectivity_plots(plot_name=\"MeTu4_L to TuBu_L\",\n",
    "                                  plot_folder=plot_folder,\n",
    "                                  fig_size=fig_size_mt_tb_m)"
   ]
  },
  {
   "cell_type": "markdown",
   "metadata": {},
   "source": [
    "#### TuBu to Ring Connections"
   ]
  },
  {
   "cell_type": "code",
   "execution_count": null,
   "metadata": {},
   "outputs": [],
   "source": [
    "plot_folder = \"SI Data Set 1\"\n",
    "\n",
    "#1di\n",
    "tb_er_pl_r = mapping.ConnectionMap(tb_pl_r, er_pl_r, \"BU_R\")\n",
    "tb_er_pl_r.make_connectivity_plots(plot_name=\"TuBu_PL_R to ER_PL_R\",\n",
    "                                   plot_folder=plot_folder,\n",
    "                                   fig_size=fig_size_tb_er_pl_r)\n",
    "\n",
    "#1dii\n",
    "fig_size_tb_er_pl_l = (1.15, 1.15)\n",
    "tb_er_pl_l = mapping.ConnectionMap(tb_pl_l, er_pl_l, \"BU_L\")\n",
    "tb_er_pl_l.make_connectivity_plots(plot_name=\"TuBu_PL_L to ER_PL_L\",\n",
    "                                   plot_folder=plot_folder,\n",
    "                                   fig_size=fig_size_tb_er_pl_l)"
   ]
  },
  {
   "cell_type": "code",
   "execution_count": null,
   "metadata": {},
   "outputs": [],
   "source": [
    "plot_folder = \"SI Data Set 1\"\n",
    "\n",
    "#1diii\n",
    "tb_er_pc_r = mapping.ConnectionMap(tb_pc_r, er_pc_r, \"BU_R\")\n",
    "tb_er_pc_r.make_connectivity_plots(plot_name=\"TuBu_PC_R to ER_PC_R\",\n",
    "                                   plot_folder=plot_folder,\n",
    "                                   fig_size=fig_size_tb_er_pc)\n",
    "\n",
    "#1div\n",
    "tb_er_pc_l = mapping.ConnectionMap(tb_pc_l, er_pc_l, \"BU_L\")\n",
    "tb_er_pc_l.make_connectivity_plots(plot_name=\"TuBu_PC_L to ER_PC_L\",\n",
    "                                   plot_folder=plot_folder,\n",
    "                                   fig_size=fig_size_tb_er_pc)"
   ]
  },
  {
   "cell_type": "code",
   "execution_count": null,
   "metadata": {},
   "outputs": [],
   "source": [
    "plot_folder = \"SI Data Set 1\"\n",
    "\n",
    "#1dv\n",
    "tb_er_a_r = mapping.ConnectionMap(tb_a_r, er_a_r, \"BU_R\")\n",
    "tb_er_a_r.make_connectivity_plots(plot_name=\"uBu_A_R to ER_A_R\",\n",
    "                                  plot_folder=plot_folder,\n",
    "                                  fig_size=fig_size_tb_er_a)\n",
    "\n",
    "#1dvi\n",
    "tb_er_a_l = mapping.ConnectionMap(tb_a_l, er_a_l, \"BU_L\")\n",
    "tb_er_a_l.make_connectivity_plots(plot_name=\"TuBu_A_L to ER_A_L\",\n",
    "                                  plot_folder=plot_folder,\n",
    "                                  fig_size=fig_size_tb_er_a)"
   ]
  },
  {
   "cell_type": "code",
   "execution_count": null,
   "metadata": {},
   "outputs": [],
   "source": [
    "plot_folder = \"SI Data Set 1\"\n",
    "\n",
    "#1dvii\n",
    "tb_er_m_r = mapping.ConnectionMap(tb_m_r, er_m_r, \"BU_R\")\n",
    "tb_er_m_r.make_connectivity_plots(plot_name=\"TuBu_M_R to ER_M_R\",\n",
    "                                  plot_folder=plot_folder,\n",
    "                                  fig_size=fig_size_tb_er_m)\n",
    "\n",
    "#1dviii\n",
    "tb_m_l.insert(1, \"TuBu_misc_L\")\n",
    "tb_er_m_l = mapping.ConnectionMap(tb_m_l, er_m_l, \"BU_L\")\n",
    "tb_er_m_l.make_connectivity_plots(plot_name=\"TuBu_M_L to ER_M_L\",\n",
    "                                  plot_folder=plot_folder,\n",
    "                                  fig_size=fig_size_tb_er_m)\n",
    "tb_m_l.remove(\"TuBu_misc_L\")"
   ]
  },
  {
   "cell_type": "markdown",
   "metadata": {},
   "source": [
    "#### EB and Bihemispheric Connections"
   ]
  },
  {
   "cell_type": "code",
   "execution_count": null,
   "metadata": {},
   "outputs": [],
   "source": [
    "plot_folder = \"SI Data Set 1\"\n",
    "\n",
    "#1e\n",
    "eb_inter = mapping.ConnectionMap(er_all_plus_lal+exr+eb_broad, \n",
    "                                 er_all_plus_lal+exr+eb_broad, \"EB\")\n",
    "eb_inter.make_type_plots(plot_name=\"EB Interconnectivity\",\n",
    "                         plot_folder=plot_folder, fig_size=(8, 8))\n",
    "\n",
    "#1fi\n",
    "bihem_aotu_r = mapping.ConnectionMap(aotu46+tutu+mt_r, aotu46+tutu+mt_r+tb_r, \"AOTU_R\")\n",
    "bihem_aotu_r.make_type_plots(\\\n",
    "            plot_name=\"Bihemispheric Connections (AOTU_R)\", plot_folder=plot_folder,\n",
    "            fig_size=bihem_size)\n",
    "\n",
    "#1fii\n",
    "bihem_aotu_l = mapping.ConnectionMap(aotu46+tutu+mt_l, aotu46+tutu+mt_l+tb_l, \"AOTU_L\")\n",
    "bihem_aotu_l.make_type_plots(\\\n",
    "            plot_name=\"Bihemispheric Connections (AOTU_L)\", plot_folder=plot_folder,\n",
    "            fig_size=bihem_size)\n",
    "\n",
    "#1gi\n",
    "bihem_bu_r = mapping.ConnectionMap(aotu46+tb_r, aotu46+tb_r+er_r, \"BU_R\")\n",
    "bihem_bu_r.make_type_plots(\\\n",
    "            plot_name=\"Bihemispheric Connections (BU_R)\", plot_folder=plot_folder,\n",
    "            fig_size=bihem_size)\n",
    "\n",
    "#1gii\n",
    "bihem_bu_l = mapping.ConnectionMap(aotu46+tb_l, aotu46+tb_l+er_l, \"BU_L\")\n",
    "bihem_bu_l.make_type_plots(\\\n",
    "            plot_name=\"Bihemispheric Connections (BU_L)\", plot_folder=plot_folder,\n",
    "            fig_size=bihem_size)"
   ]
  },
  {
   "cell_type": "markdown",
   "metadata": {},
   "source": [
    "## Supplementary Excel Files"
   ]
  },
  {
   "cell_type": "code",
   "execution_count": null,
   "metadata": {},
   "outputs": [],
   "source": [
    "#Codex Naming History Table\n",
    "label_df = proofreading.all_codex_names(all_in_paper)\n",
    "utils.write_excel(label_df, \"Codex Naming History\")"
   ]
  },
  {
   "cell_type": "code",
   "execution_count": null,
   "metadata": {},
   "outputs": [],
   "source": [
    "#Flywire Consortium Edit Record Table\n",
    "percent_df = proofreading.full_percent_spread(all_in_paper)\n",
    "utils.write_excel(percent_df, \"FlyWire Consortium Edit Record\")"
   ]
  }
 ],
 "metadata": {
  "kernelspec": {
   "display_name": ".venv",
   "language": "python",
   "name": "python3"
  },
  "language_info": {
   "codemirror_mode": {
    "name": "ipython",
    "version": 3
   },
   "file_extension": ".py",
   "mimetype": "text/x-python",
   "name": "python",
   "nbconvert_exporter": "python",
   "pygments_lexer": "ipython3",
   "version": "3.12.7"
  }
 },
 "nbformat": 4,
 "nbformat_minor": 2
}
